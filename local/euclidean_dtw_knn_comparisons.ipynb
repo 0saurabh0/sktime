{
 "cells": [
  {
   "cell_type": "code",
   "execution_count": 1,
   "id": "8959551f",
   "metadata": {},
   "outputs": [
    {
     "name": "stderr",
     "output_type": "stream",
     "text": [
      "c:\\users\\sjx07ngu\\github\\sktime\\sktime\\utils\\data_io.py:63: FutureWarning: This function has moved to datasets/_data_io, this version will be removed in V0.10\n",
      "  warn(\n"
     ]
    }
   ],
   "source": [
    "from sktime.classification.distance_based import KNeighborsTimeSeriesClassifier\n",
    "from sktime.distances import distance_factory\n",
    "\n",
    "from sktime.datasets import load_italy_power_demand as load\n",
    "# from sktime.datasets import load_gunpoint as load\n",
    "# from sktime.datasets import load_arrow_head as load\n",
    "# from sktime.datasets import load_basic_motions as load\n",
    "\n",
    "x_train, y_train = load(\"train\", True)\n",
    "x_test, y_test = load(\"test\", True)\n",
    "\n",
    "ed_new = distance_factory(metric=\"euclidean\")\n",
    "dtw_new_no_setting = distance_factory(metric=\"dtw\")\n",
    "dtw_explicit_window_0 = distance_factory(metric=\"dtw\", window=0)\n",
    "dtw_explicit_window_half = distance_factory(metric=\"dtw\", window=int(len(x_train.iloc[0][0])/2))\n",
    "dtw_explicit_window_full = distance_factory(metric=\"dtw\", window=len(x_train.iloc[0][0]))"
   ]
  },
  {
   "cell_type": "markdown",
   "id": "e34e826c",
   "metadata": {},
   "source": [
    "# Euclidean"
   ]
  },
  {
   "cell_type": "code",
   "execution_count": 2,
   "id": "56d05a1d",
   "metadata": {},
   "outputs": [
    {
     "name": "stdout",
     "output_type": "stream",
     "text": [
      "(67, 1)\n",
      "(67, 1, 24)\n",
      "(array([[1.47805024],\n",
      "       [0.87336328],\n",
      "       [0.73272009],\n",
      "       ...,\n",
      "       [0.73791831],\n",
      "       [1.39534606],\n",
      "       [0.67511264]]),)\n"
     ]
    },
    {
     "data": {
      "text/plain": [
       "0.9552964042759962"
      ]
     },
     "execution_count": 2,
     "metadata": {},
     "output_type": "execute_result"
    }
   ],
   "source": [
    "# as-is but printing the distances to neighbours in the predict method (called via score)\n",
    "knn = KNeighborsTimeSeriesClassifier(n_neighbors=1, distance=\"euclidean\")\n",
    "knn.fit(x_train, y_train)\n",
    "knn.score(x_test, y_test)"
   ]
  },
  {
   "cell_type": "code",
   "execution_count": 3,
   "id": "ed89dcb9",
   "metadata": {},
   "outputs": [
    {
     "name": "stdout",
     "output_type": "stream",
     "text": [
      "(67, 1)\n",
      "(67, 1, 24)\n",
      "(array([[1.47805024],\n",
      "       [0.87336328],\n",
      "       [0.73272009],\n",
      "       ...,\n",
      "       [0.73791831],\n",
      "       [1.39534606],\n",
      "       [0.67511264]]),)\n"
     ]
    },
    {
     "data": {
      "text/plain": [
       "0.9552964042759962"
      ]
     },
     "execution_count": 3,
     "metadata": {},
     "output_type": "execute_result"
    }
   ],
   "source": [
    "# as above, but calling the new Numba Euclidean distance function\n",
    "knn = KNeighborsTimeSeriesClassifier(n_neighbors=1, distance=ed_new)\n",
    "knn.fit(x_train, y_train)\n",
    "knn.score(x_test, y_test)"
   ]
  },
  {
   "cell_type": "markdown",
   "id": "940c97ae",
   "metadata": {},
   "source": [
    "# DTW - no window set"
   ]
  },
  {
   "cell_type": "code",
   "execution_count": 4,
   "id": "aea45048",
   "metadata": {},
   "outputs": [
    {
     "name": "stdout",
     "output_type": "stream",
     "text": [
      "(67, 1)\n",
      "(67, 1, 24)\n"
     ]
    },
    {
     "name": "stderr",
     "output_type": "stream",
     "text": [
      "C:\\Users\\sjx07ngu\\Anaconda3\\envs\\sktime_env\\lib\\site-packages\\sklearn\\metrics\\pairwise.py:1469: UserWarning: Cython DTW is deprecated from V0.10\n",
      "  out[i, j] = metric(X[i], Y[j], **kwds)\n"
     ]
    },
    {
     "name": "stdout",
     "output_type": "stream",
     "text": [
      "(array([[1.29135739],\n",
      "       [0.53776433],\n",
      "       [0.34535438],\n",
      "       ...,\n",
      "       [0.45486493],\n",
      "       [1.50924582],\n",
      "       [0.43473644]]),)\n"
     ]
    },
    {
     "data": {
      "text/plain": [
       "0.9504373177842566"
      ]
     },
     "execution_count": 4,
     "metadata": {},
     "output_type": "execute_result"
    }
   ],
   "source": [
    "# as-is but printing the distances to neighbours in the predict method (called via score)\n",
    "knn = KNeighborsTimeSeriesClassifier(n_neighbors=1, distance=\"dtw\")\n",
    "knn.fit(x_train, y_train)\n",
    "knn.score(x_test, y_test)"
   ]
  },
  {
   "cell_type": "code",
   "execution_count": 5,
   "id": "e4a38dc5",
   "metadata": {},
   "outputs": [
    {
     "name": "stdout",
     "output_type": "stream",
     "text": [
      "(67, 1)\n",
      "(67, 1, 24)\n",
      "(array([[1.29135739],\n",
      "       [0.53776433],\n",
      "       [0.34535438],\n",
      "       ...,\n",
      "       [0.45486493],\n",
      "       [1.50924582],\n",
      "       [0.43473644]]),)\n"
     ]
    },
    {
     "data": {
      "text/plain": [
       "0.9504373177842566"
      ]
     },
     "execution_count": 5,
     "metadata": {},
     "output_type": "execute_result"
    }
   ],
   "source": [
    "# using the new dtw method but not setting the window\n",
    "knn = KNeighborsTimeSeriesClassifier(n_neighbors=1, distance=dtw_new_no_setting)\n",
    "knn.fit(x_train, y_train)\n",
    "knn.score(x_test, y_test)"
   ]
  },
  {
   "cell_type": "markdown",
   "id": "ec0f2a4c",
   "metadata": {},
   "source": [
    "# DTW - window set to 0 "
   ]
  },
  {
   "cell_type": "code",
   "execution_count": 6,
   "id": "3987b6d0",
   "metadata": {},
   "outputs": [
    {
     "name": "stdout",
     "output_type": "stream",
     "text": [
      "(67, 1)\n",
      "(67, 1, 24)\n"
     ]
    },
    {
     "name": "stderr",
     "output_type": "stream",
     "text": [
      "C:\\Users\\sjx07ngu\\Anaconda3\\envs\\sktime_env\\lib\\site-packages\\sklearn\\metrics\\pairwise.py:1469: UserWarning: Cython DTW is deprecated from V0.10\n",
      "  out[i, j] = metric(X[i], Y[j], **kwds)\n"
     ]
    },
    {
     "name": "stdout",
     "output_type": "stream",
     "text": [
      "(array([[2.18463253],\n",
      "       [0.76276343],\n",
      "       [0.53687874],\n",
      "       ...,\n",
      "       [0.54452344],\n",
      "       [1.94699063],\n",
      "       [0.45577707]]),)\n"
     ]
    },
    {
     "data": {
      "text/plain": [
       "0.9552964042759962"
      ]
     },
     "execution_count": 6,
     "metadata": {},
     "output_type": "execute_result"
    }
   ],
   "source": [
    "knn = KNeighborsTimeSeriesClassifier(n_neighbors=1, distance=\"dtw\", distance_params={\"w\":0})\n",
    "knn.fit(x_train, y_train)\n",
    "knn.score(x_test, y_test)"
   ]
  },
  {
   "cell_type": "code",
   "execution_count": 7,
   "id": "2b1867b8",
   "metadata": {},
   "outputs": [
    {
     "name": "stdout",
     "output_type": "stream",
     "text": [
      "(67, 1)\n",
      "(67, 1, 24)\n",
      "(array([[1.31345715],\n",
      "       [0.53776433],\n",
      "       [0.35191442],\n",
      "       ...,\n",
      "       [0.48740846],\n",
      "       [1.5165592 ],\n",
      "       [0.44091508]]),)\n"
     ]
    },
    {
     "data": {
      "text/plain": [
       "0.9426627793974732"
      ]
     },
     "execution_count": 7,
     "metadata": {},
     "output_type": "execute_result"
    }
   ],
   "source": [
    "knn = KNeighborsTimeSeriesClassifier(n_neighbors=1, distance=dtw_explicit_window_0)\n",
    "knn.fit(x_train, y_train)\n",
    "knn.score(x_test, y_test)"
   ]
  },
  {
   "cell_type": "code",
   "execution_count": 8,
   "id": "ab96e468",
   "metadata": {},
   "outputs": [
    {
     "name": "stdout",
     "output_type": "stream",
     "text": [
      "(67, 1)\n",
      "(67, 1, 24)\n",
      "(array([[1.29135739],\n",
      "       [0.53776433],\n",
      "       [0.34535438],\n",
      "       ...,\n",
      "       [0.45486493],\n",
      "       [1.50924582],\n",
      "       [0.43473644]]),)\n"
     ]
    },
    {
     "data": {
      "text/plain": [
       "0.9523809523809523"
      ]
     },
     "execution_count": 8,
     "metadata": {},
     "output_type": "execute_result"
    }
   ],
   "source": [
    "# bonus - run with explicit window of size 1\n",
    "knn = KNeighborsTimeSeriesClassifier(n_neighbors=1, distance=distance_factory(metric=\"dtw\", window=1))\n",
    "knn.fit(x_train, y_train)\n",
    "knn.score(x_test, y_test)"
   ]
  },
  {
   "cell_type": "code",
   "execution_count": 9,
   "id": "013302f6",
   "metadata": {},
   "outputs": [
    {
     "name": "stdout",
     "output_type": "stream",
     "text": [
      "here\n",
      "CPUDispatcher(<function _DtwDistance._distance_factory.<locals>.numba_dtw_distance at 0x00000202BB758E50>)\n",
      "None\n",
      "(array([[2.18463253],\n",
      "       [0.76276343],\n",
      "       [0.53687874],\n",
      "       ...,\n",
      "       [0.54452344],\n",
      "       [1.94699063],\n",
      "       [0.45577707]]),)\n"
     ]
    },
    {
     "data": {
      "text/plain": [
       "0.9552964042759962"
      ]
     },
     "execution_count": 9,
     "metadata": {},
     "output_type": "execute_result"
    }
   ],
   "source": [
    "# bonus bonus - classifier with transpose removed internally\n",
    "from sktime.classification.distance_based._time_series_neighbors_numba import KNeighborsTimeSeriesClassifier as KNN2\n",
    "new_dtw = distance_factory(metric=\"dtw\", window=int(len(x_train.iloc[0][0])/2))\n",
    "knn2 = KNN2(n_neighbors=1, distance=new_dtw)\n",
    "knn2.fit(x_train, y_train)\n",
    "knn2.score(x_test, y_test)"
   ]
  },
  {
   "cell_type": "markdown",
   "id": "bfe2ff88",
   "metadata": {},
   "source": [
    "# DTW - window set to 50%"
   ]
  },
  {
   "cell_type": "code",
   "execution_count": 10,
   "id": "bc486e3e",
   "metadata": {},
   "outputs": [
    {
     "name": "stdout",
     "output_type": "stream",
     "text": [
      "(67, 1)\n",
      "(67, 1, 24)\n"
     ]
    },
    {
     "name": "stderr",
     "output_type": "stream",
     "text": [
      "C:\\Users\\sjx07ngu\\Anaconda3\\envs\\sktime_env\\lib\\site-packages\\sklearn\\metrics\\pairwise.py:1469: UserWarning: Cython DTW is deprecated from V0.10\n",
      "  out[i, j] = metric(X[i], Y[j], **kwds)\n"
     ]
    },
    {
     "name": "stdout",
     "output_type": "stream",
     "text": [
      "(array([[1.29135739],\n",
      "       [0.53776433],\n",
      "       [0.34535438],\n",
      "       ...,\n",
      "       [0.45486493],\n",
      "       [1.50924582],\n",
      "       [0.43473644]]),)\n"
     ]
    },
    {
     "data": {
      "text/plain": [
       "0.9504373177842566"
      ]
     },
     "execution_count": 10,
     "metadata": {},
     "output_type": "execute_result"
    }
   ],
   "source": [
    "knn = KNeighborsTimeSeriesClassifier(n_neighbors=1, distance=\"dtw\", distance_params={\"w\":0.5})\n",
    "knn.fit(x_train, y_train)\n",
    "knn.score(x_test, y_test)"
   ]
  },
  {
   "cell_type": "code",
   "execution_count": 11,
   "id": "707a86ec",
   "metadata": {},
   "outputs": [
    {
     "name": "stdout",
     "output_type": "stream",
     "text": [
      "(67, 1)\n",
      "(67, 1, 24)\n",
      "(array([[1.29135739],\n",
      "       [0.53776433],\n",
      "       [0.34535438],\n",
      "       ...,\n",
      "       [0.45486493],\n",
      "       [1.50924582],\n",
      "       [0.43473644]]),)\n"
     ]
    },
    {
     "data": {
      "text/plain": [
       "0.9504373177842566"
      ]
     },
     "execution_count": 11,
     "metadata": {},
     "output_type": "execute_result"
    }
   ],
   "source": [
    "knn = KNeighborsTimeSeriesClassifier(n_neighbors=1, distance=dtw_explicit_window_half)\n",
    "knn.fit(x_train, y_train)\n",
    "knn.score(x_test, y_test)"
   ]
  },
  {
   "cell_type": "markdown",
   "id": "ed2e933f",
   "metadata": {},
   "source": [
    "# DTW - window set to 100"
   ]
  },
  {
   "cell_type": "code",
   "execution_count": 12,
   "id": "d656c509",
   "metadata": {},
   "outputs": [
    {
     "name": "stdout",
     "output_type": "stream",
     "text": [
      "(67, 1)\n",
      "(67, 1, 24)\n"
     ]
    },
    {
     "name": "stderr",
     "output_type": "stream",
     "text": [
      "C:\\Users\\sjx07ngu\\Anaconda3\\envs\\sktime_env\\lib\\site-packages\\sklearn\\metrics\\pairwise.py:1469: UserWarning: Cython DTW is deprecated from V0.10\n",
      "  out[i, j] = metric(X[i], Y[j], **kwds)\n"
     ]
    },
    {
     "name": "stdout",
     "output_type": "stream",
     "text": [
      "(array([[1.29135739],\n",
      "       [0.53776433],\n",
      "       [0.34535438],\n",
      "       ...,\n",
      "       [0.45486493],\n",
      "       [1.50924582],\n",
      "       [0.43473644]]),)\n"
     ]
    },
    {
     "data": {
      "text/plain": [
       "0.9504373177842566"
      ]
     },
     "execution_count": 12,
     "metadata": {},
     "output_type": "execute_result"
    }
   ],
   "source": [
    "knn = KNeighborsTimeSeriesClassifier(n_neighbors=1, distance=\"dtw\", distance_params={\"w\":1})\n",
    "knn.fit(x_train, y_train)\n",
    "knn.score(x_test, y_test)"
   ]
  },
  {
   "cell_type": "code",
   "execution_count": 13,
   "id": "177888cb",
   "metadata": {},
   "outputs": [
    {
     "name": "stdout",
     "output_type": "stream",
     "text": [
      "(67, 1)\n",
      "(67, 1, 24)\n",
      "(array([[1.29135739],\n",
      "       [0.53776433],\n",
      "       [0.34535438],\n",
      "       ...,\n",
      "       [0.45486493],\n",
      "       [1.50924582],\n",
      "       [0.43473644]]),)\n"
     ]
    },
    {
     "data": {
      "text/plain": [
       "0.9504373177842566"
      ]
     },
     "execution_count": 13,
     "metadata": {},
     "output_type": "execute_result"
    }
   ],
   "source": [
    "knn = KNeighborsTimeSeriesClassifier(n_neighbors=1, distance=dtw_explicit_window_full)\n",
    "knn.fit(x_train, y_train)\n",
    "knn.score(x_test, y_test)"
   ]
  }
 ],
 "metadata": {
  "kernelspec": {
   "display_name": "Python 3 (ipykernel)",
   "language": "python",
   "name": "python3"
  },
  "language_info": {
   "codemirror_mode": {
    "name": "ipython",
    "version": 3
   },
   "file_extension": ".py",
   "mimetype": "text/x-python",
   "name": "python",
   "nbconvert_exporter": "python",
   "pygments_lexer": "ipython3",
   "version": "3.8.12"
  }
 },
 "nbformat": 4,
 "nbformat_minor": 5
}
