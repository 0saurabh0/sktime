{
 "cells": [
  {
   "cell_type": "markdown",
   "metadata": {},
   "source": [
    "# The Canonical Time-series Characteristics (catch22) transform\n",
    "\n",
    "catch22\\[1\\] is a collection of 22 time series features extracted from the 7000+ present in the _hctsa_\\[2\\]\\[3\\] toolbox.\n",
    "A hierarchical clustering was performed on the correlation matrix of features that performed better than random chance to remove redundancy.\n",
    "These clusters were sorted by balanced accuracy using a decision tree classifier and a single feature was selected from the 22 clusters formed, taking into account balanced accuracy results, computational efficiency and interpretability.\n",
    "\n",
    "In this notebook, we will demonstrate how to use the catch22 transformer on the ItalyPowerDemand univariate and BasicMotions multivariate datasets. We also show catch22 used for classication with a random forest classifier.\n",
    "\n",
    "Both make use of the features implemented in the catch22 package (<https://github.com/chlubba/catch22>), where versions of catch22 for C and MATLAB are also available.\n",
    "\n",
    "#### References:\n",
    "\n",
    "\\[1\\] Lubba, C. H., Sethi, S. S., Knaute, P., Schultz, S. R., Fulcher, B. D., & Jones, N. S. (2019). catch22: CAnonical Time-series CHaracteristics. Data Mining and Knowledge Discovery, 33(6), 1821-1852.\n",
    "\n",
    "\\[2\\] Fulcher, B. D., & Jones, N. S. (2017). hctsa: A computational framework for automated time-series phenotyping using massive feature extraction. Cell systems, 5(5), 527-531.\n",
    "\n",
    "\\[3\\] Fulcher, B. D., Little, M. A., & Jones, N. S. (2013). Highly comparative time-series analysis: the empirical structure of time series and their methods. Journal of the Royal Society Interface, 10(83), 20130048."
   ]
  },
  {
   "cell_type": "markdown",
   "metadata": {},
   "source": [
    "## 1. Imports"
   ]
  },
  {
   "cell_type": "code",
   "execution_count": 2,
   "metadata": {
    "execution": {
     "iopub.execute_input": "2020-12-19T14:30:07.306937Z",
     "iopub.status.busy": "2020-12-19T14:30:07.306390Z",
     "iopub.status.idle": "2020-12-19T14:30:08.036353Z",
     "shell.execute_reply": "2020-12-19T14:30:08.036857Z"
    }
   },
   "source": [
    "from sklearn import metrics\n",
    "\n",
    "from sktime.classification.hybrid import Catch22ForestClassifier\n",
    "from sktime.transformations.panel.catch22_features import Catch22\n",
    "from sktime.datasets import load_basic_motions, load_italy_power_demand"
   ],
   "outputs": [
    {
     "ename": "ModuleNotFoundError",
     "evalue": "No module named 'sktime.transformers'",
     "output_type": "error",
     "traceback": [
      "\u001B[1;31m---------------------------------------------------------------------------\u001B[0m",
      "\u001B[1;31mModuleNotFoundError\u001B[0m                       Traceback (most recent call last)",
      "\u001B[1;32m<ipython-input-2-1a31c3f0bfc7>\u001B[0m in \u001B[0;36m<module>\u001B[1;34m\u001B[0m\n\u001B[0;32m      1\u001B[0m \u001B[1;32mfrom\u001B[0m \u001B[0msklearn\u001B[0m \u001B[1;32mimport\u001B[0m \u001B[0mmetrics\u001B[0m\u001B[1;33m\u001B[0m\u001B[1;33m\u001B[0m\u001B[0m\n\u001B[0;32m      2\u001B[0m \u001B[1;33m\u001B[0m\u001B[0m\n\u001B[1;32m----> 3\u001B[1;33m \u001B[1;32mfrom\u001B[0m \u001B[0msktime\u001B[0m\u001B[1;33m.\u001B[0m\u001B[0mclassification\u001B[0m\u001B[1;33m.\u001B[0m\u001B[0mhybrid\u001B[0m \u001B[1;32mimport\u001B[0m \u001B[0mCatch22ForestClassifier\u001B[0m\u001B[1;33m\u001B[0m\u001B[1;33m\u001B[0m\u001B[0m\n\u001B[0m\u001B[0;32m      4\u001B[0m \u001B[1;32mfrom\u001B[0m \u001B[0msktime\u001B[0m\u001B[1;33m.\u001B[0m\u001B[0mdatasets\u001B[0m \u001B[1;32mimport\u001B[0m \u001B[0mload_basic_motions\u001B[0m\u001B[1;33m,\u001B[0m \u001B[0mload_italy_power_demand\u001B[0m\u001B[1;33m\u001B[0m\u001B[1;33m\u001B[0m\u001B[0m\n\u001B[0;32m      5\u001B[0m \u001B[1;33m\u001B[0m\u001B[0m\n",
      "\u001B[1;32mD:\\CMP Machine Learning\\sktime-fork\\sktime\\classification\\hybrid\\__init__.py\u001B[0m in \u001B[0;36m<module>\u001B[1;34m\u001B[0m\n\u001B[0;32m      7\u001B[0m \u001B[1;32mfrom\u001B[0m \u001B[0msktime\u001B[0m\u001B[1;33m.\u001B[0m\u001B[0mclassification\u001B[0m\u001B[1;33m.\u001B[0m\u001B[0mhybrid\u001B[0m\u001B[1;33m.\u001B[0m\u001B[0m_catch22_forest_classifier\u001B[0m \u001B[1;32mimport\u001B[0m\u001B[0;31m \u001B[0m\u001B[0;31m\\\u001B[0m\u001B[1;33m\u001B[0m\u001B[1;33m\u001B[0m\u001B[0m\n\u001B[0;32m      8\u001B[0m     \u001B[0mCatch22ForestClassifier\u001B[0m\u001B[1;33m\u001B[0m\u001B[1;33m\u001B[0m\u001B[0m\n\u001B[1;32m----> 9\u001B[1;33m \u001B[1;32mfrom\u001B[0m \u001B[0msktime\u001B[0m\u001B[1;33m.\u001B[0m\u001B[0mclassification\u001B[0m\u001B[1;33m.\u001B[0m\u001B[0mhybrid\u001B[0m\u001B[1;33m.\u001B[0m\u001B[0m_hivecote_v1\u001B[0m \u001B[1;32mimport\u001B[0m \u001B[0mHIVECOTEV1\u001B[0m\u001B[1;33m\u001B[0m\u001B[1;33m\u001B[0m\u001B[0m\n\u001B[0m",
      "\u001B[1;32mD:\\CMP Machine Learning\\sktime-fork\\sktime\\classification\\hybrid\\_hivecote_v1.py\u001B[0m in \u001B[0;36m<module>\u001B[1;34m\u001B[0m\n\u001B[0;32m     18\u001B[0m     \u001B[0mRandomIntervalSpectralForest\u001B[0m\u001B[1;33m,\u001B[0m\u001B[1;33m\u001B[0m\u001B[1;33m\u001B[0m\u001B[0m\n\u001B[0;32m     19\u001B[0m )\n\u001B[1;32m---> 20\u001B[1;33m \u001B[1;32mfrom\u001B[0m \u001B[0msktime\u001B[0m\u001B[1;33m.\u001B[0m\u001B[0mclassification\u001B[0m\u001B[1;33m.\u001B[0m\u001B[0mshapelet_based\u001B[0m \u001B[1;32mimport\u001B[0m \u001B[0mShapeletTransformClassifier\u001B[0m\u001B[1;33m\u001B[0m\u001B[1;33m\u001B[0m\u001B[0m\n\u001B[0m\u001B[0;32m     21\u001B[0m \u001B[1;32mfrom\u001B[0m \u001B[0msktime\u001B[0m\u001B[1;33m.\u001B[0m\u001B[0mutils\u001B[0m\u001B[1;33m.\u001B[0m\u001B[0mvalidation\u001B[0m\u001B[1;33m.\u001B[0m\u001B[0mpanel\u001B[0m \u001B[1;32mimport\u001B[0m \u001B[0mcheck_X_y\u001B[0m\u001B[1;33m,\u001B[0m \u001B[0mcheck_X\u001B[0m\u001B[1;33m\u001B[0m\u001B[1;33m\u001B[0m\u001B[0m\n\u001B[0;32m     22\u001B[0m \u001B[1;33m\u001B[0m\u001B[0m\n",
      "\u001B[1;32mD:\\CMP Machine Learning\\sktime-fork\\sktime\\classification\\shapelet_based\\__init__.py\u001B[0m in \u001B[0;36m<module>\u001B[1;34m\u001B[0m\n\u001B[0;32m      7\u001B[0m \u001B[1;33m\u001B[0m\u001B[0m\n\u001B[0;32m      8\u001B[0m \u001B[1;32mfrom\u001B[0m \u001B[0msktime\u001B[0m\u001B[1;33m.\u001B[0m\u001B[0mclassification\u001B[0m\u001B[1;33m.\u001B[0m\u001B[0mshapelet_based\u001B[0m\u001B[1;33m.\u001B[0m\u001B[0m_stc\u001B[0m \u001B[1;32mimport\u001B[0m \u001B[0mShapeletTransformClassifier\u001B[0m\u001B[1;33m\u001B[0m\u001B[1;33m\u001B[0m\u001B[0m\n\u001B[1;32m----> 9\u001B[1;33m \u001B[1;32mfrom\u001B[0m \u001B[0msktime\u001B[0m\u001B[1;33m.\u001B[0m\u001B[0mclassification\u001B[0m\u001B[1;33m.\u001B[0m\u001B[0mshapelet_based\u001B[0m\u001B[1;33m.\u001B[0m\u001B[0mmrseql\u001B[0m\u001B[1;33m.\u001B[0m\u001B[0mmrseql\u001B[0m \u001B[1;32mimport\u001B[0m \u001B[0mMrSEQLClassifier\u001B[0m\u001B[1;33m\u001B[0m\u001B[1;33m\u001B[0m\u001B[0m\n\u001B[0m\u001B[0;32m     10\u001B[0m \u001B[1;32mfrom\u001B[0m \u001B[0msktime\u001B[0m\u001B[1;33m.\u001B[0m\u001B[0mclassification\u001B[0m\u001B[1;33m.\u001B[0m\u001B[0mshapelet_based\u001B[0m\u001B[1;33m.\u001B[0m\u001B[0m_rocket_classifier\u001B[0m \u001B[1;32mimport\u001B[0m \u001B[0mROCKETClassifier\u001B[0m\u001B[1;33m\u001B[0m\u001B[1;33m\u001B[0m\u001B[0m\n",
      "\u001B[1;32mD:\\CMP Machine Learning\\sktime-fork\\sktime\\classification\\shapelet_based\\mrseql\\mrseql.pyx\u001B[0m in \u001B[0;36minit sktime.classification.shapelet_based.mrseql.mrseql\u001B[1;34m()\u001B[0m\n",
      "\u001B[1;31mModuleNotFoundError\u001B[0m: No module named 'sktime.transformers'"
     ]
    }
   ]
  },
  {
   "cell_type": "markdown",
   "metadata": {},
   "source": [
    "## 2. Load data"
   ]
  },
  {
   "cell_type": "code",
   "execution_count": null,
   "metadata": {
    "execution": {
     "iopub.execute_input": "2020-12-19T14:30:08.041533Z",
     "iopub.status.busy": "2020-12-19T14:30:08.041060Z",
     "iopub.status.idle": "2020-12-19T14:30:08.210768Z",
     "shell.execute_reply": "2020-12-19T14:30:08.211258Z"
    }
   },
   "outputs": [],
   "source": [
    "IPD_X_train, IPD_y_train = load_italy_power_demand(split=\"train\", return_X_y=True)\n",
    "IPD_X_test, IPD_y_test = load_italy_power_demand(split=\"test\", return_X_y=True)\n",
    "IPD_X_test = IPD_X_test[:50]\n",
    "IPD_y_test = IPD_y_test[:50]\n",
    "\n",
    "print(IPD_X_train.shape, IPD_y_train.shape, IPD_X_test.shape, IPD_y_test.shape)\n",
    "\n",
    "BM_X_train, BM_y_train = load_basic_motions(split=\"train\", return_X_y=True)\n",
    "BM_X_test, BM_y_test = load_basic_motions(split=\"test\", return_X_y=True)\n",
    "\n",
    "print(BM_X_train.shape, BM_y_train.shape, BM_X_test.shape, BM_y_test.shape)"
   ]
  },
  {
   "cell_type": "markdown",
   "metadata": {},
   "source": [
    "## 3. catch22 transform\n",
    "\n",
    "### Univariate\n",
    "\n",
    "The catch22 features are provided in the form of a transformer, `Catch22`.\n",
    "From this the transformed data can be used for a variety of time series analysis tasks."
   ]
  },
  {
   "cell_type": "code",
   "execution_count": null,
   "metadata": {
    "execution": {
     "iopub.execute_input": "2020-12-19T14:30:08.215545Z",
     "iopub.status.busy": "2020-12-19T14:30:08.215049Z",
     "iopub.status.idle": "2020-12-19T14:30:08.222937Z",
     "shell.execute_reply": "2020-12-19T14:30:08.223422Z"
    }
   },
   "outputs": [],
   "source": [
    "c22_uv = Catch22()\n",
    "c22_uv.fit(IPD_X_train, IPD_y_train)"
   ]
  },
  {
   "cell_type": "code",
   "execution_count": null,
   "metadata": {
    "execution": {
     "iopub.execute_input": "2020-12-19T14:30:08.226714Z",
     "iopub.status.busy": "2020-12-19T14:30:08.226142Z",
     "iopub.status.idle": "2020-12-19T14:30:08.252491Z",
     "shell.execute_reply": "2020-12-19T14:30:08.252970Z"
    },
    "pycharm": {
     "name": "#%%\n"
    }
   },
   "outputs": [],
   "source": [
    "transformed_data_uv = c22_uv.transform(IPD_X_train)\n",
    "print(transformed_data_uv.head())"
   ]
  },
  {
   "cell_type": "markdown",
   "metadata": {},
   "source": [
    "The transform `Catch22` method will process all 22 features.\n",
    "For individual features, the transform_single_feature method can be used when provided with a numeric feature ID or the feature name."
   ]
  },
  {
   "cell_type": "code",
   "execution_count": null,
   "metadata": {
    "execution": {
     "iopub.execute_input": "2020-12-19T14:30:08.257918Z",
     "iopub.status.busy": "2020-12-19T14:30:08.257341Z",
     "iopub.status.idle": "2020-12-19T14:30:08.260888Z",
     "shell.execute_reply": "2020-12-19T14:30:08.261385Z"
    },
    "pycharm": {
     "name": "#%%\n"
    }
   },
   "outputs": [],
   "source": [
    "transformed_feature_uv = c22_uv._transform_single_feature(IPD_X_train, \"CO_f1ecac\")\n",
    "print(transformed_feature_uv)"
   ]
  },
  {
   "cell_type": "markdown",
   "metadata": {},
   "source": [
    "### Multivariate\n",
    "\n",
    "Transformation of multivariate data is supported by `Catch22`.\n",
    "The default procedure will concatenate each column prior to transformation."
   ]
  },
  {
   "cell_type": "code",
   "execution_count": null,
   "metadata": {
    "execution": {
     "iopub.execute_input": "2020-12-19T14:30:08.264541Z",
     "iopub.status.busy": "2020-12-19T14:30:08.264050Z",
     "iopub.status.idle": "2020-12-19T14:30:08.266022Z",
     "shell.execute_reply": "2020-12-19T14:30:08.266517Z"
    },
    "pycharm": {
     "name": "#%%\n"
    }
   },
   "outputs": [],
   "source": [
    "c22_mv = Catch22()\n",
    "c22_mv.fit(BM_X_train, BM_y_train)"
   ]
  },
  {
   "cell_type": "code",
   "execution_count": null,
   "metadata": {
    "execution": {
     "iopub.execute_input": "2020-12-19T14:30:08.271483Z",
     "iopub.status.busy": "2020-12-19T14:30:08.270986Z",
     "iopub.status.idle": "2020-12-19T14:30:08.413472Z",
     "shell.execute_reply": "2020-12-19T14:30:08.413974Z"
    },
    "pycharm": {
     "name": "#%%\n"
    }
   },
   "outputs": [],
   "source": [
    "transformed_data_mv = c22_mv.transform(BM_X_train)\n",
    "print(transformed_data_mv.head())"
   ]
  },
  {
   "cell_type": "markdown",
   "metadata": {},
   "source": [
    "## 4. catch22 Forest Classifier\n",
    "\n",
    "For classification tasks the default classifier to use with the catch22 features is random forest classifier.\n",
    "An implementation making use of the `RandomForestClassifier` from sklearn built on catch22 features is provided in the form on the `Catch22ForestClassifier` for ease of use."
   ]
  },
  {
   "cell_type": "code",
   "execution_count": null,
   "metadata": {
    "execution": {
     "iopub.execute_input": "2020-12-19T14:30:08.431962Z",
     "iopub.status.busy": "2020-12-19T14:30:08.419431Z",
     "iopub.status.idle": "2020-12-19T14:30:08.535295Z",
     "shell.execute_reply": "2020-12-19T14:30:08.535836Z"
    }
   },
   "outputs": [],
   "source": [
    "c22f = Catch22ForestClassifier(n_estimators=100, random_state=0)\n",
    "c22f.fit(IPD_X_train, IPD_y_train)"
   ]
  },
  {
   "cell_type": "code",
   "execution_count": null,
   "metadata": {
    "execution": {
     "iopub.execute_input": "2020-12-19T14:30:08.553299Z",
     "iopub.status.busy": "2020-12-19T14:30:08.552508Z",
     "iopub.status.idle": "2020-12-19T14:30:08.561331Z",
     "shell.execute_reply": "2020-12-19T14:30:08.561821Z"
    }
   },
   "outputs": [],
   "source": [
    "c22f_preds = c22f.predict(IPD_X_test)\n",
    "print(\"C22F Accuracy: \" + str(metrics.accuracy_score(IPD_y_test, c22f_preds)))"
   ]
  }
 ],
 "metadata": {
  "kernelspec": {
   "name": "pycharm-28faf070",
   "language": "python",
   "display_name": "PyCharm (sktime-fork)"
  },
  "language_info": {
   "codemirror_mode": {
    "name": "ipython",
    "version": 3
   },
   "file_extension": ".py",
   "mimetype": "text/x-python",
   "name": "python",
   "nbconvert_exporter": "python",
   "pygments_lexer": "ipython3",
   "version": "3.7.8"
  }
 },
 "nbformat": 4,
 "nbformat_minor": 2
}