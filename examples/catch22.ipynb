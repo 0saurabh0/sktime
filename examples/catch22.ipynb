{
 "cells": [
  {
   "cell_type": "markdown",
   "metadata": {},
   "source": [
    "# The Canonical Time-series Characteristics (catch22) transform\n",
    "\n",
    "catch22\\[1\\] is a collection of 22 time series features extracted from the 7000+ present in the _hctsa_\\[2\\]\\[3\\] toolbox.\n",
    "A hierarchical clustering was performed on the correlation matrix of features that performed better than random chance to remove redundancy.\n",
    "These clusters were sorted by balanced accuracy using a decision tree classifier and a single feature was selected from the 22 clusters formed, taking into account balanced accuracy results, computational efficiency and interpretability.\n",
    "\n",
    "In this notebook, we will demonstrate how to use the catch22 transform on the GunPoint univariate and BasicMotions multivariate datasets. We also show catch22 used for classication with a random forest classifier.\n",
    "\n",
    "#### References:\n",
    "\n",
    "\\[1\\] Lubba, C. H., Sethi, S. S., Knaute, P., Schultz, S. R., Fulcher, B. D., & Jones, N. S. (2019). catch22: CAnonical Time-series CHaracteristics. Data Mining and Knowledge Discovery, 33(6), 1821-1852.\n",
    "\n",
    "\\[2\\] Fulcher, B. D., & Jones, N. S. (2017). hctsa: A computational framework for automated time-series phenotyping using massive feature extraction. Cell systems, 5(5), 527-531.\n",
    "\n",
    "\\[3\\] Fulcher, B. D., Little, M. A., & Jones, N. S. (2013). Highly comparative time-series analysis: the empirical structure of time series and their methods. Journal of the Royal Society Interface, 10(83), 20130048."
   ]
  },
  {
   "cell_type": "markdown",
   "metadata": {},
   "source": [
    "## 1. Imports"
   ]
  },
  {
   "cell_type": "code",
   "execution_count": 1,
   "metadata": {},
   "outputs": [],
   "source": [
    "from sktime.transformers.series_as_features.catch22_features import Catch22\n",
    "from sktime.classification.hybrid._catch22_forest_classifier \\\n",
    "    import Catch22ForestClassifier\n",
    "\n",
    "from sklearn import metrics\n",
    "from sktime.datasets import load_gunpoint, load_basic_motions"
   ]
  },
  {
   "cell_type": "markdown",
   "metadata": {},
   "source": [
    "## 2. Load data\n",
    "For more details on the data set, see the [univariate time series classification notebook](https://github.com/alan-turing-institute/sktime/blob/master/examples/02_classification_univariate.ipynb)."
   ]
  },
  {
   "cell_type": "code",
   "execution_count": 2,
   "metadata": {},
   "outputs": [
    {
     "name": "stdout",
     "output_type": "stream",
     "text": [
      "(50, 1) (50,) (150, 1) (150,)\n",
      "(40, 6) (40,) (40, 6) (40,)\n"
     ]
    }
   ],
   "source": [
    "GP_X_train, GP_y_train = load_gunpoint(split='train', return_X_y=True)\n",
    "GP_X_test, GP_y_test = load_gunpoint(split='test', return_X_y=True)\n",
    "\n",
    "print(GP_X_train.shape, GP_y_train.shape, GP_X_test.shape, GP_y_test.shape)\n",
    "\n",
    "BM_X_train, BM_y_train = load_basic_motions(split='train', return_X_y=True)\n",
    "BM_X_test, BM_y_test = load_basic_motions(split='test', return_X_y=True)\n",
    "\n",
    "print(BM_X_train.shape, BM_y_train.shape, BM_X_test.shape, BM_y_test.shape)"
   ]
  },
  {
   "cell_type": "markdown",
   "metadata": {},
   "source": [
    "## 3. catch22 transform\n",
    "\n",
    "### Univariate\n",
    "\n",
    "The catch22 features are provided in the form of a tranfromer, `Catch22`.\n",
    "From this the transformed data can be used for a variety of time series analysis tasks."
   ]
  },
  {
   "cell_type": "code",
   "execution_count": 17,
   "metadata": {},
   "outputs": [
    {
     "data": {
      "text/plain": "Catch22()"
     },
     "execution_count": 17,
     "metadata": {},
     "output_type": "execute_result"
    }
   ],
   "source": [
    "c22_uv = Catch22()\n",
    "c22_uv.fit(GP_X_train, GP_y_train)"
   ]
  },
  {
   "cell_type": "code",
   "execution_count": 15,
   "outputs": [
    {
     "name": "stdout",
     "output_type": "stream",
     "text": [
      "         0         1   2   3         4         5         6     7       8   9   \\\n",
      "0 -0.519634 -0.651047  19  48  0.748442 -0.000027  0.221477  47.0  0.0400   0   \n",
      "1 -0.540260 -0.677230  19  50  0.753535 -0.000062  0.248322  46.0  0.0800   0   \n",
      "2 -0.534033 -0.658352  21  53  0.772093  0.000493  0.221477  50.0  0.0625   0   \n",
      "3 -0.534749 -0.663529  21  53  0.791940  0.000194  0.241611  49.0  0.0400   0   \n",
      "4 -0.454774 -0.594117  18  48  0.703249 -0.000209  0.214765  43.0  0.0400   0   \n",
      "\n",
      "   ...        12        13        14        15    16        17     18     19  \\\n",
      "0  ...  0.642857  0.100000 -0.326667  0.989975  29.0  1.315707  0.150  0.850   \n",
      "1  ...  0.703704  0.026667 -0.306667  0.990176  26.0  1.296189  0.775  0.825   \n",
      "2  ...  1.033333  0.026667 -0.360000  0.989140  34.0  1.253208  0.775  0.850   \n",
      "3  ...  0.965517 -0.020000  0.333333  0.989461  33.0  1.296189  0.750  0.850   \n",
      "4  ...  0.576923 -0.060000  0.300000  0.989789  19.0  1.323159  0.200  0.850   \n",
      "\n",
      "         20        21  \n",
      "0  0.049087  0.147311  \n",
      "1  0.049087  0.143172  \n",
      "2  0.049087  0.140793  \n",
      "3  0.049087  0.135299  \n",
      "4  0.049087  0.161247  \n",
      "\n",
      "[5 rows x 22 columns]\n"
     ]
    }
   ],
   "source": [
    "transformed_data_uv = c22_uv.transform(GP_X_train)\n",
    "print(transformed_data_uv.head())"
   ],
   "metadata": {
    "collapsed": false,
    "pycharm": {
     "name": "#%%\n"
    }
   }
  },
  {
   "cell_type": "markdown",
   "source": [
    "The transform `Catch22` method will process all 22 features.\n",
    "For individual features, the transform_single_feature method can be used when provided with a numeric feature ID or the feature name."
   ],
   "metadata": {
    "collapsed": false
   }
  },
  {
   "cell_type": "code",
   "execution_count": 16,
   "outputs": [
    {
     "name": "stdout",
     "output_type": "stream",
     "text": [
      "[19 19 21 21 18 20 19 19 21 23 23 22 22 22 18 23 21 19 22 20 22 22 22 16\n",
      " 19 21 22 23 21 21 23 17 21 21 19 19 19 19 16 20 20 22 23 23 21 19 20 19\n",
      " 19 17]\n"
     ]
    }
   ],
   "source": [
    "transformed_feature_uv = c22_uv.transform_single_feature(GP_X_train, \"CO_f1ecac\")\n",
    "print(transformed_feature_uv)"
   ],
   "metadata": {
    "collapsed": false,
    "pycharm": {
     "name": "#%%\n"
    }
   }
  },
  {
   "cell_type": "markdown",
   "source": [
    "### Multivariate\n",
    "\n",
    "Transformation of multivariate data is supported by `Catch22`.\n",
    "The default procedure will concatenate each column prior to transformation."
   ],
   "metadata": {
    "collapsed": false
   }
  },
  {
   "cell_type": "code",
   "execution_count": 11,
   "outputs": [
    {
     "data": {
      "text/plain": "Catch22()"
     },
     "execution_count": 11,
     "metadata": {},
     "output_type": "execute_result"
    }
   ],
   "source": [
    "c22_mv = Catch22()\n",
    "c22_mv.fit(BM_X_train, BM_y_train)"
   ],
   "metadata": {
    "collapsed": false,
    "pycharm": {
     "name": "#%%\n"
    }
   }
  },
  {
   "cell_type": "code",
   "execution_count": 12,
   "outputs": [
    {
     "name": "stdout",
     "output_type": "stream",
     "text": [
      "         0         1   2   3         4         5         6     7         8   \\\n",
      "0 -0.417887  0.187460   2   5  0.105551 -0.649750  0.794658   9.0  0.002256   \n",
      "1  1.061005  0.294088   2   6  0.043438 -1.968673  0.626043  79.0  0.012387   \n",
      "2 -0.065333  0.297270   3   6  0.111391 -0.015163  0.808013  25.0  0.000808   \n",
      "3  0.274125 -0.130168   2   5  0.062411 -0.103788  0.841402  17.0  0.005236   \n",
      "4 -0.310012  0.068879   3   5  0.086561  0.321862  0.813022  26.0  0.012837   \n",
      "\n",
      "   9   ...        12        13        14        15   16        17        18  \\\n",
      "0   9  ...  0.666667 -0.576667 -0.421667  0.479256  7.0  1.952422  0.127660   \n",
      "1  10  ...  0.250000 -0.501667 -0.318333  0.603359  7.0  1.858507  0.170213   \n",
      "2  11  ...  1.000000 -0.446667 -0.470000  0.812749  8.0  1.927062  0.127660   \n",
      "3   8  ...  0.666667 -0.366667 -0.351667  0.486981  7.0  2.009502  0.127660   \n",
      "4  10  ...  0.750000 -0.501667 -0.695833  0.767016  7.0  1.869634  0.787234   \n",
      "\n",
      "         19        20        21  \n",
      "0  0.659574  0.632000  1.095149  \n",
      "1  0.872340  0.570641  0.987787  \n",
      "2  0.659574  0.533825  0.994098  \n",
      "3  0.638298  0.625864  1.038027  \n",
      "4  0.617021  0.570641  0.955538  \n",
      "\n",
      "[5 rows x 22 columns]\n"
     ]
    }
   ],
   "source": [
    "transformed_data_mv = c22_mv.transform(BM_X_train)\n",
    "print(transformed_data_mv.head())"
   ],
   "metadata": {
    "collapsed": false,
    "pycharm": {
     "name": "#%%\n"
    }
   }
  },
  {
   "cell_type": "markdown",
   "metadata": {},
   "source": [
    "## 4. catch22 Forest Classifier\n",
    "\n",
    "For classification tasks the default classifier to use with the catch22 features is random forest classifier.\n",
    "An implementation making use of the `BaggingClassifier` from sklearn built on catch22 features is provided in the form on the `Catch22ForestClassifier` for ease of use."
   ]
  },
  {
   "cell_type": "code",
   "execution_count": 18,
   "metadata": {},
   "outputs": [
    {
     "name": "stderr",
     "output_type": "stream",
     "text": [
      "D:\\UEAMachineLearning\\sktime-workshop-boss\\sktime\\classification\\hybrid\\_catch22_forest_classifier.py:48: FutureWarning: Beginning in version 0.22, arrays of bytes/strings will be converted to decimal numbers if dtype='numeric'. It is recommended that you convert the array to a float dtype before using it in scikit-learn, for example by using your_array = your_array.astype(np.float64).\n",
      "  y = check_array(y, ensure_2d=False)\n"
     ]
    },
    {
     "data": {
      "text/plain": "Catch22ForestClassifier(bootstrap=True, n_estimators=100, n_jobs=None,\n                        random_state=None)"
     },
     "execution_count": 18,
     "metadata": {},
     "output_type": "execute_result"
    }
   ],
   "source": [
    "c22f = Catch22ForestClassifier(n_estimators=100)\n",
    "c22f.fit(GP_X_train, GP_y_train)"
   ]
  },
  {
   "cell_type": "code",
   "execution_count": 19,
   "metadata": {},
   "outputs": [
    {
     "name": "stdout",
     "output_type": "stream",
     "text": [
      "C22F Accuracy: 0.9133333333333333\n"
     ]
    }
   ],
   "source": [
    "c22f_preds = c22f.predict(GP_X_test)\n",
    "print(\"C22F Accuracy: \" + str(metrics.accuracy_score(GP_y_test, c22f_preds)))"
   ]
  }
 ],
 "metadata": {
  "kernelspec": {
   "name": "pycharm-30b2fe51",
   "language": "python",
   "display_name": "PyCharm (sktime-workshop-boss)"
  },
  "language_info": {
   "codemirror_mode": {
    "name": "ipython",
    "version": 3
   },
   "file_extension": ".py",
   "mimetype": "text/x-python",
   "name": "python",
   "nbconvert_exporter": "python",
   "pygments_lexer": "ipython3",
   "version": "3.7.6"
  }
 },
 "nbformat": 4,
 "nbformat_minor": 2
}