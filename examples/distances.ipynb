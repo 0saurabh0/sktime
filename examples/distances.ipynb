{
 "cells": [
  {
   "cell_type": "markdown",
   "source": [
    "<h1> Time series distances </h1>\n",
    "<h2> Distances </h2>\n",
    "There are two main computations we may want to do for calculating distance\n",
    "between time series.\n",
    "<br><br>\n",
    "The first is computing the distance between the time series x and the\n",
    "time series y. Our desired return is a single float that represents the distance\n",
    "between the two specified time series.\n",
    "<br><br>\n",
    "The second task is to find the distance between multiple time series in a singular\n",
    "matrix or between two matricies (i.e. a dataset of time series). The computation of\n",
    "this is known as a pairwise distance as for every time series in matrix x, we want\n",
    "to find the distance between it and every time series in matrix y (i.e a pair of time\n",
    "series).\n",
    "Therefore the desired return is a 2d array of size length x by length y where each\n",
    "index value is the distance between the corresponding time series in matrix x and y.\n",
    "<br><br>\n",
    "Sktime offers solutions to both these tasks. To find the distance between two time\n",
    "series described first, the 'distance' function can be used. To find the\n",
    "pairwise distance between a single matrix or two matricies of time series the\n",
    "'pairwise' function can be used. These are described below.\n",
    "\n",
    "<h3> distance(x, y, metric_str, **kwargs)"
   ],
   "metadata": {
    "collapsed": false,
    "pycharm": {
     "name": "#%% md\n"
    }
   }
  },
  {
   "cell_type": "code",
   "execution_count": 1,
   "outputs": [],
   "source": [
    "import numpy as np\n",
    "from sktime.metrics.distances.distance import distance"
   ],
   "metadata": {
    "collapsed": false,
    "pycharm": {
     "name": "#%%\n"
    }
   }
  },
  {
   "cell_type": "code",
   "execution_count": 20,
   "outputs": [
    {
     "ename": "TypeError",
     "evalue": "No valid mtype could be identified",
     "output_type": "error",
     "traceback": [
      "\u001B[0;31m---------------------------------------------------------------------------\u001B[0m",
      "\u001B[0;31mTypeError\u001B[0m                                 Traceback (most recent call last)",
      "\u001B[0;32m/tmp/ipykernel_59639/3156580670.py\u001B[0m in \u001B[0;36m<module>\u001B[0;34m\u001B[0m\n\u001B[1;32m      5\u001B[0m \u001B[0;32mfrom\u001B[0m \u001B[0msktime\u001B[0m\u001B[0;34m.\u001B[0m\u001B[0mdatatypes\u001B[0m \u001B[0;32mimport\u001B[0m \u001B[0mconvert_to\u001B[0m\u001B[0;34m\u001B[0m\u001B[0;34m\u001B[0m\u001B[0m\n\u001B[1;32m      6\u001B[0m \u001B[0;34m\u001B[0m\u001B[0m\n\u001B[0;32m----> 7\u001B[0;31m \u001B[0mprint\u001B[0m\u001B[0;34m(\u001B[0m\u001B[0mconvert_to\u001B[0m\u001B[0;34m(\u001B[0m\u001B[0mx_univariate_1d\u001B[0m\u001B[0;34m,\u001B[0m \u001B[0mto_type\u001B[0m\u001B[0;34m=\u001B[0m\u001B[0;34m\"numpyflat\"\u001B[0m\u001B[0;34m)\u001B[0m\u001B[0;34m)\u001B[0m\u001B[0;34m\u001B[0m\u001B[0;34m\u001B[0m\u001B[0m\n\u001B[0m\u001B[1;32m      8\u001B[0m \u001B[0;34m\u001B[0m\u001B[0m\n\u001B[1;32m      9\u001B[0m \u001B[0;31m# Call distance and use euclidean distance\u001B[0m\u001B[0;34m\u001B[0m\u001B[0;34m\u001B[0m\u001B[0;34m\u001B[0m\u001B[0m\n",
      "\u001B[0;32m~/Documents/masters/sktime/sktime/datatypes/_convert.py\u001B[0m in \u001B[0;36mconvert_to\u001B[0;34m(obj, to_type, as_scitype, store)\u001B[0m\n\u001B[1;32m    170\u001B[0m         \u001B[0;32mraise\u001B[0m \u001B[0mTypeError\u001B[0m\u001B[0;34m(\u001B[0m\u001B[0;34m\"as_scitype must be a str or None\"\u001B[0m\u001B[0;34m)\u001B[0m\u001B[0;34m\u001B[0m\u001B[0;34m\u001B[0m\u001B[0m\n\u001B[1;32m    171\u001B[0m \u001B[0;34m\u001B[0m\u001B[0m\n\u001B[0;32m--> 172\u001B[0;31m     \u001B[0mfrom_type\u001B[0m \u001B[0;34m=\u001B[0m \u001B[0minfer_mtype\u001B[0m\u001B[0;34m(\u001B[0m\u001B[0mobj\u001B[0m\u001B[0;34m=\u001B[0m\u001B[0mobj\u001B[0m\u001B[0;34m,\u001B[0m \u001B[0mas_scitype\u001B[0m\u001B[0;34m=\u001B[0m\u001B[0mas_scitype\u001B[0m\u001B[0;34m)\u001B[0m\u001B[0;34m\u001B[0m\u001B[0;34m\u001B[0m\u001B[0m\n\u001B[0m\u001B[1;32m    173\u001B[0m \u001B[0;34m\u001B[0m\u001B[0m\n\u001B[1;32m    174\u001B[0m     \u001B[0;31m# if to_type is a list:\u001B[0m\u001B[0;34m\u001B[0m\u001B[0;34m\u001B[0m\u001B[0;34m\u001B[0m\u001B[0m\n",
      "\u001B[0;32m~/Documents/masters/sktime/sktime/datatypes/_check.py\u001B[0m in \u001B[0;36mmtype\u001B[0;34m(obj, as_scitype)\u001B[0m\n\u001B[1;32m    198\u001B[0m \u001B[0;34m\u001B[0m\u001B[0m\n\u001B[1;32m    199\u001B[0m     \u001B[0;32mif\u001B[0m \u001B[0mlen\u001B[0m\u001B[0;34m(\u001B[0m\u001B[0mres\u001B[0m\u001B[0;34m)\u001B[0m \u001B[0;34m<\u001B[0m \u001B[0;36m1\u001B[0m\u001B[0;34m:\u001B[0m\u001B[0;34m\u001B[0m\u001B[0;34m\u001B[0m\u001B[0m\n\u001B[0;32m--> 200\u001B[0;31m         \u001B[0;32mraise\u001B[0m \u001B[0mTypeError\u001B[0m\u001B[0;34m(\u001B[0m\u001B[0;34m\"No valid mtype could be identified\"\u001B[0m\u001B[0;34m)\u001B[0m\u001B[0;34m\u001B[0m\u001B[0;34m\u001B[0m\u001B[0m\n\u001B[0m\u001B[1;32m    201\u001B[0m \u001B[0;34m\u001B[0m\u001B[0m\n\u001B[1;32m    202\u001B[0m     \u001B[0;32mreturn\u001B[0m \u001B[0mres\u001B[0m\u001B[0;34m[\u001B[0m\u001B[0;36m0\u001B[0m\u001B[0;34m]\u001B[0m\u001B[0;34m\u001B[0m\u001B[0;34m\u001B[0m\u001B[0m\n",
      "\u001B[0;31mTypeError\u001B[0m: No valid mtype could be identified"
     ]
    }
   ],
   "source": [
    "# 1d univariate\n",
    "x_univariate_1d = [0.81217268, -0.30587821, -0.26408588, -0.53648431, 0.43270381]\n",
    "y_univariate_1d = [-1.15076935, 0.87240588, -0.38060345, 0.15951955, -0.12468519]\n",
    "\n",
    "# Call distance and use euclidean distance\n",
    "distance(x_univariate_1d, y_univariate_1d, 'euclidean')"
   ],
   "metadata": {
    "collapsed": false,
    "pycharm": {
     "name": "#%%\n"
    }
   }
  },
  {
   "cell_type": "code",
   "execution_count": 26,
   "outputs": [
    {
     "ename": "NotImplementedError",
     "evalue": "no conversion defined from type numpyflat to nested_univ",
     "output_type": "error",
     "traceback": [
      "\u001B[0;31m---------------------------------------------------------------------------\u001B[0m",
      "\u001B[0;31mNotImplementedError\u001B[0m                       Traceback (most recent call last)",
      "\u001B[0;32m/tmp/ipykernel_59639/3616825993.py\u001B[0m in \u001B[0;36m<module>\u001B[0;34m\u001B[0m\n\u001B[1;32m      6\u001B[0m \u001B[0;34m\u001B[0m\u001B[0m\n\u001B[1;32m      7\u001B[0m \u001B[0;32mfrom\u001B[0m \u001B[0msktime\u001B[0m\u001B[0;34m.\u001B[0m\u001B[0mdatatypes\u001B[0m \u001B[0;32mimport\u001B[0m \u001B[0mconvert\u001B[0m\u001B[0;34m\u001B[0m\u001B[0;34m\u001B[0m\u001B[0m\n\u001B[0;32m----> 8\u001B[0;31m \u001B[0mprint\u001B[0m\u001B[0;34m(\u001B[0m\u001B[0mconvert\u001B[0m\u001B[0;34m(\u001B[0m\u001B[0mx_univariate_2d\u001B[0m\u001B[0;34m,\u001B[0m \u001B[0mfrom_type\u001B[0m\u001B[0;34m=\u001B[0m\u001B[0;34m\"numpyflat\"\u001B[0m\u001B[0;34m,\u001B[0m \u001B[0mto_type\u001B[0m\u001B[0;34m=\u001B[0m\u001B[0;34m\"nested_univ\"\u001B[0m\u001B[0;34m)\u001B[0m\u001B[0;34m)\u001B[0m\u001B[0;34m\u001B[0m\u001B[0;34m\u001B[0m\u001B[0m\n\u001B[0m\u001B[1;32m      9\u001B[0m \u001B[0;31m# Call distance and use euclidean distance\u001B[0m\u001B[0;34m\u001B[0m\u001B[0;34m\u001B[0m\u001B[0;34m\u001B[0m\u001B[0m\n\u001B[1;32m     10\u001B[0m \u001B[0mdistance\u001B[0m\u001B[0;34m(\u001B[0m\u001B[0mx_univariate_2d\u001B[0m\u001B[0;34m,\u001B[0m \u001B[0my_univariate_2d\u001B[0m\u001B[0;34m,\u001B[0m \u001B[0;34m'euclidean'\u001B[0m\u001B[0;34m)\u001B[0m\u001B[0;34m\u001B[0m\u001B[0;34m\u001B[0m\u001B[0m\n",
      "\u001B[0;32m~/Documents/masters/sktime/sktime/datatypes/_convert.py\u001B[0m in \u001B[0;36mconvert\u001B[0;34m(obj, from_type, to_type, as_scitype, store)\u001B[0m\n\u001B[1;32m    119\u001B[0m \u001B[0;34m\u001B[0m\u001B[0m\n\u001B[1;32m    120\u001B[0m     \u001B[0;32mif\u001B[0m \u001B[0mkey\u001B[0m \u001B[0;32mnot\u001B[0m \u001B[0;32min\u001B[0m \u001B[0mconvert_dict\u001B[0m\u001B[0;34m.\u001B[0m\u001B[0mkeys\u001B[0m\u001B[0;34m(\u001B[0m\u001B[0;34m)\u001B[0m\u001B[0;34m:\u001B[0m\u001B[0;34m\u001B[0m\u001B[0;34m\u001B[0m\u001B[0m\n\u001B[0;32m--> 121\u001B[0;31m         raise NotImplementedError(\n\u001B[0m\u001B[1;32m    122\u001B[0m             \u001B[0;34m\"no conversion defined from type \"\u001B[0m \u001B[0;34m+\u001B[0m \u001B[0mstr\u001B[0m\u001B[0;34m(\u001B[0m\u001B[0mfrom_type\u001B[0m\u001B[0;34m)\u001B[0m \u001B[0;34m+\u001B[0m \u001B[0;34m\" to \"\u001B[0m \u001B[0;34m+\u001B[0m \u001B[0mstr\u001B[0m\u001B[0;34m(\u001B[0m\u001B[0mto_type\u001B[0m\u001B[0;34m)\u001B[0m\u001B[0;34m\u001B[0m\u001B[0;34m\u001B[0m\u001B[0m\n\u001B[1;32m    123\u001B[0m         )\n",
      "\u001B[0;31mNotImplementedError\u001B[0m: no conversion defined from type numpyflat to nested_univ"
     ]
    }
   ],
   "source": [
    "# 2d univariate\n",
    "x_univariate_2d = [[0.81217268], [-0.30587821], [-0.26408588], [-0.53648431],\n",
    "                   [0.43270381]]\n",
    "y_univariate_2d = [[-1.15076935], [0.87240588], [-0.38060345], [0.15951955],\n",
    "                   [-0.12468519]]\n",
    "\n",
    "# Call distance and use euclidean distance\n",
    "distance(x_univariate_2d, y_univariate_2d, 'euclidean')"
   ],
   "metadata": {
    "collapsed": false,
    "pycharm": {
     "name": "#%%\n"
    }
   }
  },
  {
   "cell_type": "code",
   "execution_count": 4,
   "outputs": [
    {
     "data": {
      "text/plain": "6.4287946355366845"
     },
     "execution_count": 4,
     "metadata": {},
     "output_type": "execute_result"
    }
   ],
   "source": [
    "# Generate multivariate example\n",
    "x_multivariate = [\n",
    "    [ 0.81217268, -0.30587821, -0.26408588, -0.53648431,  0.43270381],\n",
    "    [0.73105397, -1.03007035, -0.1612086 , -0.19202718,  0.56688472],\n",
    "    [-0.55030959,  0.57236185,  0.45079536,  0.25124717,  0.45042797],\n",
    "    [-0.34583038, -0.19837676, -0.34358635, -0.42260282, -0.33562307],\n",
    "    [-0.09591778, -0.44381448, -0.37357915,  0.8462273 ,  0.02540388]\n",
    "]\n",
    "\n",
    "y_multivariate = [\n",
    "    [ 0.15008516, -0.17612492, -0.5712591 , -0.17467136, -0.10444712],\n",
    "    [-0.37719897,  0.62643408,  0.25646491, -0.14904642,  0.24425907],\n",
    "    [-0.7220569 , -0.25223293,  0.08001853,  0.43808446,  0.15781747],\n",
    "    [-0.11116407, -0.10037903,  0.0932807 ,  0.20502582,  0.09914986],\n",
    "    [ 0.59945894,  0.09257821, -0.18764248, -0.3193652 ,  0.21174718]\n",
    "]\n",
    "\n",
    "# Call distance and use euclidean distance\n",
    "distance(x_multivariate, y_multivariate, 'euclidean')"
   ],
   "metadata": {
    "collapsed": false,
    "pycharm": {
     "name": "#%%\n"
    }
   }
  },
  {
   "cell_type": "markdown",
   "source": [
    "The above uses euclidean to compute the distance between the two series. There are\n",
    "many other distances avaliable. A full list of avaliable distances can be\n",
    "retrieved by calling the following:"
   ],
   "metadata": {
    "collapsed": false,
    "pycharm": {
     "name": "#%% md\n"
    }
   }
  },
  {
   "cell_type": "code",
   "execution_count": 5,
   "outputs": [
    {
     "data": {
      "text/plain": "['squared',\n 'braycurtis',\n 'canberra',\n 'chebyshev',\n 'cityblock',\n 'correlation',\n 'cosine',\n 'dice',\n 'euclidean',\n 'hamming',\n 'jaccard',\n 'jensenshannon',\n 'kulsinski',\n 'matching',\n 'minkowski',\n 'rogerstanimoto',\n 'russellrao',\n 'seuclidean',\n 'sokalmichener',\n 'sokalsneath',\n 'sqeuclidean',\n 'yule']"
     },
     "execution_count": 5,
     "metadata": {},
     "output_type": "execute_result"
    }
   ],
   "source": [
    "from sktime.metrics.distances.distance import get_available_distances\n",
    "get_available_distances()"
   ],
   "metadata": {
    "collapsed": false,
    "pycharm": {
     "name": "#%%\n"
    }
   }
  },
  {
   "cell_type": "markdown",
   "source": [
    "Any of the above string distances are valid distance string to pass to distance (or\n",
    "pairwise see below)."
   ],
   "metadata": {
    "collapsed": false,
    "pycharm": {
     "name": "#%% md\n"
    }
   }
  },
  {
   "cell_type": "markdown",
   "source": [
    "A distance can also be computed by passing a callable or BaseDistance to distance as\n",
    "shown below"
   ],
   "metadata": {
    "collapsed": false,
    "pycharm": {
     "name": "#%% md\n"
    }
   }
  },
  {
   "cell_type": "code",
   "execution_count": 6,
   "outputs": [
    {
     "data": {
      "text/plain": "11.99415645"
     },
     "execution_count": 6,
     "metadata": {},
     "output_type": "execute_result"
    }
   ],
   "source": [
    "# BaseDistance example\n",
    "from sktime.metrics.distances.base.base import BaseDistance\n",
    "\n",
    "class AbsoluteDistance(BaseDistance):\n",
    "\n",
    "    def _distance(self, x: np.ndarray, y: np.ndarray) -> float:\n",
    "        distance = 0.0\n",
    "\n",
    "        for i in range(x.shape[0]):\n",
    "            distance += np.sum(np.abs(x[i] - y[i]))\n",
    "\n",
    "        return distance\n",
    "\n",
    "distance(x_multivariate, y_multivariate, AbsoluteDistance())"
   ],
   "metadata": {
    "collapsed": false,
    "pycharm": {
     "name": "#%%\n"
    }
   }
  },
  {
   "cell_type": "code",
   "execution_count": 7,
   "outputs": [
    {
     "data": {
      "text/plain": "11.99415645"
     },
     "execution_count": 7,
     "metadata": {},
     "output_type": "execute_result"
    }
   ],
   "source": [
    "# Callable example\n",
    "def absolute_distance_callable(x: np.ndarray, y: np.ndarray) -> float:\n",
    "        distance = 0.0\n",
    "\n",
    "        for i in range(x.shape[0]):\n",
    "            distance += np.sum(np.abs(x[i] - y[i]))\n",
    "\n",
    "        # Must return a float\n",
    "        return distance\n",
    "\n",
    "distance(x_multivariate, y_multivariate, absolute_distance_callable)"
   ],
   "metadata": {
    "collapsed": false,
    "pycharm": {
     "name": "#%%\n"
    }
   }
  },
  {
   "cell_type": "markdown",
   "source": [
    "<h4>Passing addition arguments to the metric.</h4>"
   ],
   "metadata": {
    "collapsed": false,
    "pycharm": {
     "name": "#%% md\n"
    }
   }
  },
  {
   "cell_type": "code",
   "execution_count": 8,
   "outputs": [
    {
     "name": "stdout",
     "output_type": "stream",
     "text": [
      "parama 1\n",
      "paramb 5\n"
     ]
    },
    {
     "data": {
      "text/plain": "99.54869969"
     },
     "execution_count": 8,
     "metadata": {},
     "output_type": "execute_result"
    }
   ],
   "source": [
    "# Note this works regardless of how the metric is passed\n",
    "# The example below passes a function for clarity but doing the\n",
    "# same passing a str distance or a BaseDistance works as well.\n",
    "# See example of passing kwargs to a BaseDistance below (at bottom of pairwise)\n",
    "\n",
    "# NOTE: This is a completely made up distance for example it does not work well\n",
    "def distance_callable_with_arguments(\n",
    "        x: np.ndarray,\n",
    "        y: np.ndarray,\n",
    "        parama: int,\n",
    "        paramb: int\n",
    "):\n",
    "    distance = 0.0\n",
    "    print(\"parama\", parama)\n",
    "    print(\"paramb\", paramb)\n",
    "\n",
    "    for i in range(x.shape[0]):\n",
    "        distance += np.sum(x[i] + y[i] - parama + paramb)\n",
    "\n",
    "    return distance\n",
    "\n",
    "# Call distance with key word arguments specified\n",
    "distance(x_multivariate,\n",
    "         y_multivariate,\n",
    "         distance_callable_with_arguments,\n",
    "         parama=1,\n",
    "         paramb=5)"
   ],
   "metadata": {
    "collapsed": false,
    "pycharm": {
     "name": "#%%\n"
    }
   }
  },
  {
   "cell_type": "markdown",
   "source": [
    "<h3> pairwise(x, y, metric_str, **kwargs) </h3>"
   ],
   "metadata": {
    "collapsed": false,
    "pycharm": {
     "name": "#%% md\n"
    }
   }
  },
  {
   "cell_type": "code",
   "execution_count": 9,
   "outputs": [
    {
     "data": {
      "text/plain": "array([[1.31775642, 1.43244932, 1.88723901, 2.20773901, 0.71673723],\n       [1.24462108, 1.55914038, 1.04158655, 1.36208655, 1.56238969],\n       [0.39592503, 0.51061793, 0.96540762, 1.28590762, 1.63856862],\n       [0.54027039, 0.85478969, 0.42      , 0.7405    , 2.18397624],\n       [0.59313723, 0.47538207, 1.13340762, 1.23390762, 2.62456862]])"
     },
     "execution_count": 9,
     "metadata": {},
     "output_type": "execute_result"
    }
   ],
   "source": [
    "from sktime.metrics.distances.distance import pairwise\n",
    "\n",
    "# Generate two univariate matrix\n",
    "x_univariate_matrix = [\n",
    "    [\n",
    "        [0.81217268],\n",
    "        [-0.30587821]\n",
    "    ],\n",
    "    [\n",
    "        [-0.26408588],\n",
    "        [-0.53648431]\n",
    "    ],\n",
    "    [\n",
    "        [0.43270381],\n",
    "        [0.23648431]\n",
    "    ],\n",
    "    [\n",
    "        [-0.22270381],\n",
    "        [0.12648431]\n",
    "    ],\n",
    "    [\n",
    "        [0.12370381],\n",
    "        [0.91348431]\n",
    "    ]\n",
    "]\n",
    "\n",
    "y_univariate_matrix = [\n",
    "    [\n",
    "        [0.12217268],\n",
    "        [0.32187821]\n",
    "    ],\n",
    "    [\n",
    "        [0.22208588],\n",
    "        [0.53648431]\n",
    "    ],\n",
    "    [\n",
    "        [-0.43270381],\n",
    "        [0.33648431]\n",
    "    ],\n",
    "    [\n",
    "        [-0.64320381],\n",
    "        [0.44648431]\n",
    "    ],\n",
    "    [\n",
    "        [0.92130381],\n",
    "        [-0.91348431]\n",
    "    ]\n",
    "]\n",
    "\n",
    "# Call distance and use euclidean distance\n",
    "pairwise(x_univariate_matrix, y_univariate_matrix, 'euclidean')"
   ],
   "metadata": {
    "collapsed": false,
    "pycharm": {
     "name": "#%%\n"
    }
   }
  },
  {
   "cell_type": "code",
   "execution_count": 10,
   "outputs": [
    {
     "data": {
      "text/plain": "array([[1.31775642, 1.43244932, 1.88723901, 2.20773901, 0.71673723],\n       [1.24462108, 1.55914038, 1.04158655, 1.36208655, 1.56238969],\n       [0.39592503, 0.51061793, 0.96540762, 1.28590762, 1.63856862],\n       [0.54027039, 0.85478969, 0.42      , 0.7405    , 2.18397624],\n       [0.59313723, 0.47538207, 1.13340762, 1.23390762, 2.62456862]])"
     },
     "execution_count": 10,
     "metadata": {},
     "output_type": "execute_result"
    }
   ],
   "source": [
    "# This is also a valid univariate matrix\n",
    "x_univariate_matrix = [\n",
    "    [0.81217268, -0.30587821],\n",
    "    [-0.26408588, -0.53648431],\n",
    "    [0.43270381, 0.23648431],\n",
    "    [-0.22270381, 0.12648431],\n",
    "    [0.12370381, 0.91348431]\n",
    "]\n",
    "\n",
    "y_univariate_matrix = [\n",
    "    [0.12217268, 0.32187821],\n",
    "    [0.22208588, 0.53648431],\n",
    "    [-0.43270381, 0.33648431],\n",
    "    [-0.64320381, 0.44648431],\n",
    "    [0.92130381, -0.91348431]\n",
    "]\n",
    "\n",
    "# Call distance and use euclidean distance\n",
    "pairwise(x_univariate_matrix, y_univariate_matrix, 'euclidean')"
   ],
   "metadata": {
    "collapsed": false,
    "pycharm": {
     "name": "#%%\n"
    }
   }
  },
  {
   "cell_type": "code",
   "execution_count": 11,
   "outputs": [
    {
     "data": {
      "text/plain": "array([[1.40486546, 2.5910411 , 2.99125241],\n       [1.95801767, 2.17441617, 2.30746759],\n       [1.04166462, 1.90175546, 2.45550794]])"
     },
     "execution_count": 11,
     "metadata": {},
     "output_type": "execute_result"
    }
   ],
   "source": [
    "from sktime.metrics.distances.distance import pairwise\n",
    "\n",
    "# Generate two multivariate matrix\n",
    "x_multivariate_matrix = [\n",
    "    [\n",
    "        [0.81217268, 0.21334264, -0.21435289],\n",
    "        [-0.30587821, -0.32135832, 0.63219321]\n",
    "    ],\n",
    "    [\n",
    "        [-0.26408588, 0.25368532, -0.12345678],\n",
    "        [-0.53648431, 0.82124242, 0.15327643]\n",
    "    ],\n",
    "    [\n",
    "        [0.43270381, 0.32164321, -0.32163321],\n",
    "        [0.23648431, 0.12323462, 0.63421133]\n",
    "    ],\n",
    "]\n",
    "\n",
    "y_multivariate_matrix = [\n",
    "    [\n",
    "        [0.12217268, 0.21236321, 0.12453321],\n",
    "        [0.32187821, -0.34543123, 0.53213532]\n",
    "    ],\n",
    "    [\n",
    "        [0.22208588, -0.64312342, -0.53231232],\n",
    "        [0.53648431, 0.85321234, 0.21843212]\n",
    "    ],\n",
    "    [\n",
    "        [-0.43270381, 0.92421532, 0.82412434],\n",
    "        [0.33648431, 0.22144332, -0.25312342]\n",
    "    ],\n",
    "]\n",
    "\n",
    "# Call distance and use euclidean distance\n",
    "pairwise(x_multivariate_matrix, y_multivariate_matrix, 'euclidean')"
   ],
   "metadata": {
    "collapsed": false,
    "pycharm": {
     "name": "#%%\n"
    }
   }
  },
  {
   "cell_type": "markdown",
   "source": [
    "The above uses euclidean to compute the pairwise between the two series. There are\n",
    "many other distances available. A full list of available distances can be\n",
    "retrieved by calling the following:"
   ],
   "metadata": {
    "collapsed": false,
    "pycharm": {
     "name": "#%% md\n"
    }
   }
  },
  {
   "cell_type": "code",
   "execution_count": 12,
   "outputs": [
    {
     "data": {
      "text/plain": "['squared',\n 'braycurtis',\n 'canberra',\n 'chebyshev',\n 'cityblock',\n 'correlation',\n 'cosine',\n 'dice',\n 'euclidean',\n 'hamming',\n 'jaccard',\n 'jensenshannon',\n 'kulsinski',\n 'matching',\n 'minkowski',\n 'rogerstanimoto',\n 'russellrao',\n 'seuclidean',\n 'sokalmichener',\n 'sokalsneath',\n 'sqeuclidean',\n 'yule']"
     },
     "execution_count": 12,
     "metadata": {},
     "output_type": "execute_result"
    }
   ],
   "source": [
    "get_available_distances()"
   ],
   "metadata": {
    "collapsed": false,
    "pycharm": {
     "name": "#%%\n"
    }
   }
  },
  {
   "cell_type": "markdown",
   "source": [
    "A pairwise can also be computed by passing a callable or BaseDistance to distance as\n",
    "shown below"
   ],
   "metadata": {
    "collapsed": false,
    "pycharm": {
     "name": "#%% md\n"
    }
   }
  },
  {
   "cell_type": "code",
   "execution_count": 13,
   "outputs": [
    {
     "data": {
      "text/plain": "array([[1.78175275, 4.19520656, 5.06470719],\n       [3.07946572, 2.96193027, 3.66589662],\n       [1.52211331, 2.8318206 , 3.69928073]])"
     },
     "execution_count": 13,
     "metadata": {},
     "output_type": "execute_result"
    }
   ],
   "source": [
    "pairwise(x_multivariate_matrix, y_multivariate_matrix, AbsoluteDistance())"
   ],
   "metadata": {
    "collapsed": false,
    "pycharm": {
     "name": "#%%\n"
    }
   }
  },
  {
   "cell_type": "code",
   "execution_count": 14,
   "outputs": [
    {
     "data": {
      "text/plain": "array([[1.78175275, 4.19520656, 5.06470719],\n       [3.07946572, 2.96193027, 3.66589662],\n       [1.52211331, 2.8318206 , 3.69928073]])"
     },
     "execution_count": 14,
     "metadata": {},
     "output_type": "execute_result"
    }
   ],
   "source": [
    "def absolute_pairwise_distance(x, y):\n",
    "    x_size = x.shape[0]\n",
    "    y_size = y.shape[0]\n",
    "\n",
    "    pairwise_matrix = np.zeros((x_size, y_size))\n",
    "\n",
    "    for i in range(x_size):\n",
    "        curr_x = x[i]\n",
    "        for j in range(y_size):\n",
    "            pairwise_matrix[i, j] = \\\n",
    "                absolute_distance_callable(curr_x, y[j])\n",
    "\n",
    "    return pairwise_matrix\n",
    "\n",
    "pairwise(x_multivariate_matrix, y_multivariate_matrix, absolute_pairwise_distance)"
   ],
   "metadata": {
    "collapsed": false,
    "pycharm": {
     "name": "#%%\n"
    }
   }
  },
  {
   "cell_type": "markdown",
   "source": [
    "Pairwise as shown above can be between two different time series matrix or can be\n",
    "computed on a singular time series matrix as shown below:"
   ],
   "metadata": {
    "collapsed": false,
    "pycharm": {
     "name": "#%% md\n"
    }
   }
  },
  {
   "cell_type": "code",
   "execution_count": 15,
   "outputs": [
    {
     "data": {
      "text/plain": "array([[0.        , 2.34103248, 1.11024509],\n       [2.34103248, 0.        , 1.87477203],\n       [1.11024509, 1.87477203, 0.        ]])"
     },
     "execution_count": 15,
     "metadata": {},
     "output_type": "execute_result"
    }
   ],
   "source": [
    "pairwise(x_multivariate_matrix, metric='euclidean')"
   ],
   "metadata": {
    "collapsed": false,
    "pycharm": {
     "name": "#%%\n"
    }
   }
  },
  {
   "cell_type": "code",
   "execution_count": 16,
   "outputs": [
    {
     "data": {
      "text/plain": "array([[0.        , 2.34103248, 1.11024509],\n       [2.34103248, 0.        , 1.87477203],\n       [1.11024509, 1.87477203, 0.        ]])"
     },
     "execution_count": 16,
     "metadata": {},
     "output_type": "execute_result"
    }
   ],
   "source": [
    "# These two are equivalent\n",
    "pairwise(x_multivariate_matrix, x_multivariate_matrix, metric='euclidean')"
   ],
   "metadata": {
    "collapsed": false,
    "pycharm": {
     "name": "#%%\n"
    }
   }
  },
  {
   "cell_type": "markdown",
   "source": [
    "<h4>Passing addition arguments to the metric.</h4>"
   ],
   "metadata": {
    "collapsed": false,
    "pycharm": {
     "name": "#%% md\n"
    }
   }
  },
  {
   "cell_type": "code",
   "execution_count": 17,
   "outputs": [
    {
     "data": {
      "text/plain": "array([[25.78377051, 25.47089802, 26.43655917],\n       [25.2718286 , 24.95895611, 25.92461726],\n       [26.39429547, 26.08142298, 27.04708413]])"
     },
     "execution_count": 17,
     "metadata": {},
     "output_type": "execute_result"
    }
   ],
   "source": [
    "# Note this works regardless of how the metric is passed\n",
    "# The example below passes a BaseDistance but doing the\n",
    "# same passing a str distance or a function works as well.\n",
    "# See above for example using a function and kwargs\n",
    "\n",
    "# NOTE: This is a completely made up distance for example it does not work well\n",
    "class DistanceWithArguments(BaseDistance):\n",
    "\n",
    "    def __init__(self, parama: int, paramb: int):\n",
    "        self.parama: int = parama\n",
    "        self.paramb: int = paramb\n",
    "\n",
    "    def _distance(\n",
    "        self,\n",
    "        x: np.ndarray,\n",
    "        y: np.ndarray,\n",
    "    ) -> float:\n",
    "        distance = 0.0\n",
    "        for i in range(x.shape[0]):\n",
    "            distance += np.sum(x[i] + y[i] - self.parama + self.paramb)\n",
    "\n",
    "        return distance\n",
    "\n",
    "# Call distance with key word arguments specified\n",
    "pairwise(\n",
    "    x_multivariate_matrix,\n",
    "    y_multivariate_matrix,\n",
    "    DistanceWithArguments( parama=1, paramb=5)\n",
    ")"
   ],
   "metadata": {
    "collapsed": false,
    "pycharm": {
     "name": "#%%\n"
    }
   }
  }
 ],
 "metadata": {
  "kernelspec": {
   "display_name": "Python 3",
   "language": "python",
   "name": "python3"
  },
  "language_info": {
   "codemirror_mode": {
    "name": "ipython",
    "version": 2
   },
   "file_extension": ".py",
   "mimetype": "text/x-python",
   "name": "python",
   "nbconvert_exporter": "python",
   "pygments_lexer": "ipython2",
   "version": "2.7.6"
  }
 },
 "nbformat": 4,
 "nbformat_minor": 0
}