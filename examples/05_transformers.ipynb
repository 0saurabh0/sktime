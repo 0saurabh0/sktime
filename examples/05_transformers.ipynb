{
 "cells": [
  {
   "cell_type": "markdown",
   "metadata": {},
   "source": [
    "**Set-up instructions:** this notebook give a tutorial on the forecasting learning task supported by `sktime`.\n",
    "On binder, this should run out-of-the-box.\n",
    "\n",
    "To run this notebook as intended, ensure that `sktime` with basic dependency requirements is installed in your python environment.\n",
    "\n",
    "To run this notebook with a local development version of sktime, either uncomment and run the below, or `pip install -e` a local clone of the `sktime` `main` branch."
   ]
  },
  {
   "cell_type": "code",
   "execution_count": null,
   "metadata": {},
   "outputs": [],
   "source": [
    "# from os import sys\r\n",
    "# sys.path.append(\"..\")"
   ]
  },
  {
   "cell_type": "markdown",
   "metadata": {},
   "source": [
    "# Using sktime transformers\r\n",
    "\r\n",
    "Transformers are modularized data processing steps commonly used in machine learning. `sktime` introduces transformer types related to time series, which can be used in pipeline constructs across learning tasks. For instance, the same time series feature extractor could be used in a forecasting pipeline, or a time series classification pipeline.\r\n",
    "\r\n",
    "Note: the term \"transformer\" is used in the sence of `scikit-learn`. This should be distinguished from the \"transformer\" referring to specific neural network architecture.\r\n",
    "\r\n",
    "`sktime` provides common interfaces to different types of transformations for stand-alone or composition use. As all `sktime` estimators, transformers expose parameters which can be tuned inside pipelines and composites.\r\n",
    "\r\n",
    "**Section 1** provides an overview of the different kinds of transformers in `sktime`.\r\n",
    "\r\n",
    "**Section 2** discusses in more detail time series and panel transformers, and common uses in pipelines.\r\n",
    "\r\n",
    "**Section 3** discusses in more detail pairwise transformers, including time series distances and time series kernels.\r\n",
    "\r\n",
    "**Section 4** gives an introduction to how to write custom transformers compliant with the `sktime` interface."
   ]
  },
  {
   "cell_type": "markdown",
   "metadata": {},
   "source": [
    "## Table of Contents\n",
    "\n",
    "* [1. Basic forecasting workflows](#chapter1)\n",
    "    * [1.1 Data container format](#section_1_1)\n",
    "    * [1.2 Basic deployment workflow - batch fitting and forecasting](#section_1_2)\n",
    "        * [1.2.1 Basic deployment workflow in a nutshell](#section_1_2_1)\n",
    "        * [1.2.2 Forecasters that require the horizon already in `fit`](#section_1_2_2)\n",
    "        * [1.2.3 Forecasters that can make use of exogeneous data](#section_1_2_3)\n",
    "        * [1.2.4 Prediction intervals](#section_1_2_4)      \n",
    "    * [1.3 basic evaluation workflow - evaluating a batch of forecasts against ground truth observations](#section_1_3)   \n",
    "        * [1.3.1 The basic batch forecast evaluation workflow in a nutshell - function metric interface](#section_1_3_1)\n",
    "        * [1.3.2 The basic batch forecast evaluation workflow in a nutshell - metric class interface](#section_1_3_2)           \n",
    "    * [1.4 advanced deployment workflow: rolling updates & forecasts](#section_1_4) \n",
    "        * [1.4.1 updating a forecaster with the update method](#section_1_4_1)    \n",
    "        * [1.4.2 moving the \"now\" state without updating the model](#section_1_4_2)   \n",
    "        * [1.4.3 walk-forward predictions on a batch of data](#section_1_4_3)  \n",
    "    * [1.5 advanced evaluation worfklow: rolling re-sampling and aggregate errors, rolling back-testing](#section_1_5)         \n",
    "* [2. Forecasters in sktime - main families](#chapter2)\n",
    "    * [2.1 exponential smoothing, theta forecaster, autoETS from statsmodels](#section_2_1)\n",
    "    * [2.2 ARIMA and autoARIMA](#section_2_2)\n",
    "    * [2.3 BATS and TBATS](#section_2_3)    \n",
    "    * [2.4 Facebook prophet](#section_2_4)  \n",
    "    * [2.5 State Space Model (Structural Time Series)](#section_2_5)  \n",
    "* [3. Advanced composition patterns - pipelines, reduction, autoML, and more](#chapter3)\n",
    "    * [3.1 Reduction: from forecasting to regression](#section_3_1)\n",
    "    * [3.2 Pipelining, detrending and deseasonalization](#section_3_2)    \n",
    "        * [3.2.1 The basic forecasting pipeline](#section_3_2_1)\n",
    "        * [3.2.2 The Detrender as pipeline component](#section_3_2_2) \n",
    "        * [3.2.3 Complex pipeline composites and parameter inspection](#section_3_2_3)        \n",
    "    * [3.3 Parameter tuning](#section_3_3)      \n",
    "        * [3.3.1 Basic tuning using ForecastingGridSearchCV](#section_3_3_1)  \n",
    "        * [3.3.2 Tuning of complex composites](#section_3_3_2)        \n",
    "        * [3.3.3 Selecting the metric and retrieving scores](#section_3_3_3) \n",
    "    * [3.4 autoML aka automated model selection, ensembling and hedging](#section_3_4) \n",
    "        * [3.4.1 autoML aka automatic model selection, using tuning plus multiplexer](#section_3_4_1)   \n",
    "        * [3.4.2 autoML: selecting transformer combinations via OptimalPassthrough](#section_3_4_2)  \n",
    "        * [3.4.3 simple ensembling strategies](#section_3_4_3)   \n",
    "        * [3.4.4 Prediction weighted ensembles and hedge ensembles](#section_3_4_4)  \n",
    "* [4. Extension guide - implementing your own forecaster](#chapter4)        \n",
    "* [5. Summary](#chapter5)          "
   ]
  },
  {
   "cell_type": "markdown",
   "metadata": {},
   "source": [
    "#### package imports"
   ]
  },
  {
   "cell_type": "code",
   "execution_count": null,
   "metadata": {},
   "outputs": [],
   "source": [
    "import numpy as np\n",
    "import pandas as pd"
   ]
  },
  {
   "cell_type": "markdown",
   "metadata": {},
   "source": [
    "## 1. Overview of transformers in `sktime` <a class=\"anchor\" id=\"chapter1\"></a>"
   ]
  },
  {
   "cell_type": "markdown",
   "metadata": {},
   "source": [
    "This section explains the differrent types of transformers found in `sktime`.\r\n",
    "\r\n",
    "There are four main types of transformation in `sktime`:\r\n",
    "\r\n",
    "* transforming a series/sequence into scalar- or category-valued features. Examples: `tsfresh`, or extracting `mean` and `variance` overall.\r\n",
    "* transforming a series into another series. Examples: detrending, smoothing, filtering, lagging.\r\n",
    "* transforming a panel into another panel. Examples: principal component projection; applying individual series transformation to all series in the panel.\r\n",
    "* transforming a pair of series into a scalar value. Examples: dynamic time warping distance between series/sequences; generalized alignment kernel between series/sequences.\r\n",
    "\r\n",
    "Notably, the first three (series to primitive features, series to series, panel to panel) are covered by the same base class template and module.\r\n",
    "Since kernels and distances for time series and sequences have the same mathematical signature and differ only in mathematical properties (e.g., definiteness assumptions), they are covered by the more abstract scientific type of \"pairwise transformer\".\r\n",
    "\r\n",
    "Below, we give an overview in sub-sections:\r\n",
    "* reviewing common data container formats for series and panels\r\n",
    "* showcasing the signature of transformers that transform a series or panel\r\n",
    "* showcasing the signature of transformers that transform a pair ot series to a scalar, e.g., distances or kernels\r\n",
    "* how to search `sktime` for transformers of a certain type"
   ]
  },
  {
   "cell_type": "markdown",
   "metadata": {},
   "source": [
    "### 1.1 Data contanier format<a class=\"anchor\" id=\"section_1_1\"></a>\r\n",
    "\r\n",
    "`sktime` transformers apply to individual time series and panels (= collections of time series).\r\n",
    "This is formalized as abstract \"scientific types\" `Series` and `Panel`, with multiple possible in-memory representations, so-called \"mtypes\".\r\n",
    "\r\n",
    "For the purpose of this tutorial, we will be working with the most common mtypes. For more details and formal data type specifications, see the \"datatypes and datasets\" tutorial.\r\n",
    "\r\n",
    "`Series` are commonly represented as:\r\n",
    "\r\n",
    "* `pandas.Series` for univariate time series and sequences\r\n",
    "* `pandas.DataFrame` for uni- or multivariate time series and sequences\r\n",
    "\r\n",
    "The `Series.index` and `DataFrame.index` are used for representing the time series or sequence index. `sktime` supports pandas integer, period and timestamp indices.\r\n",
    "\r\n",
    "`Panel`-s are commonly represented as:\r\n",
    "* a `pandas.DataFrame` in a specific format, defined by the `pd-multiindex` scitype - this has a double row index, for time points and instances\r\n",
    "* a `list` of `pandas.DataFrame`, where all `pandas.DataFrame` are in the `Series` format. The different `list` elements are the different instances\r\n",
    "\r\n",
    "In either case, the \"time\" index must be a `sktime` compatible time index type, as for `Series`."
   ]
  },
  {
   "cell_type": "code",
   "execution_count": null,
   "metadata": {},
   "outputs": [],
   "source": [
    "from sktime.datatypes import get_examples"
   ]
  },
  {
   "cell_type": "code",
   "execution_count": null,
   "metadata": {
    "execution": {
     "iopub.execute_input": "2021-04-10T16:07:05.849641Z",
     "iopub.status.busy": "2021-04-10T16:07:05.849188Z",
     "iopub.status.idle": "2021-04-10T16:07:06.049023Z",
     "shell.execute_reply": "2021-04-10T16:07:06.049499Z"
    }
   },
   "outputs": [],
   "source": [
    "# example of a univariate series\r\n",
    "get_examples(\"pd.Series\", \"Series\")[0]"
   ]
  },
  {
   "cell_type": "code",
   "execution_count": null,
   "metadata": {},
   "outputs": [],
   "source": [
    "# example of a multivariate series\r\n",
    "get_examples(\"pd.DataFrame\", \"Series\")[1]"
   ]
  },
  {
   "cell_type": "code",
   "execution_count": null,
   "metadata": {},
   "outputs": [],
   "source": [
    "# example of a panel in pd-multiindex format\r\n",
    "get_examples(\"pd-multiindex\", \"Panel\")[0]"
   ]
  },
  {
   "cell_type": "code",
   "execution_count": null,
   "metadata": {},
   "outputs": [],
   "source": [
    "# example of the same panel in df-list format\r\n",
    "get_examples(\"df-list\", \"Panel\")[0]"
   ]
  },
  {
   "cell_type": "markdown",
   "metadata": {},
   "source": [
    "`sktime` supports more in-memory formats, see the \"datatypes and datasets\" tutorial for more details."
   ]
  },
  {
   "cell_type": "markdown",
   "metadata": {},
   "source": [
    "### 1.2 General transformer signature - simple transformers<a class=\"anchor\" id=\"section_1_2\"></a>"
   ]
  },
  {
   "cell_type": "markdown",
   "metadata": {},
   "source": [
    "Transformers for `Series` and `Panel` have the same high-level interface. Depending which data type they are more commonly used for, they are found either in the `transformations.series` or `transformations.panel` module. As said, this does not imply a separate interface.\r\n",
    "\r\n",
    "The most important interface points of transformers are:\r\n",
    "\r\n",
    "1. construction, this is as with any other `sktime` estimator\r\n",
    "2. fitting the transformer, via `fit`\r\n",
    "3. transforming data, via `transform`\r\n",
    "4. inverse transforming, via `inverse_transform`\r\n",
    "5. updating the transformer, via `update` - not all transformers have this interface point (`update` is currently work in progress, as of v0.8.x, contributions are appreciated)\r\n",
    "\r\n",
    "We show this in two examples below.\r\n",
    "\r\n",
    "We will apply transformations to the following `Series` and `Panel` data:"
   ]
  },
  {
   "cell_type": "code",
   "execution_count": null,
   "metadata": {},
   "outputs": [],
   "source": [
    "from sktime.datatypes import get_examples\r\n",
    "# unvariate series used in the examples\r\n",
    "X_series = get_examples(\"pd.Series\", \"Series\")[0][0:3]\r\n",
    "# panel used in the examples\r\n",
    "X_panel = get_examples(\"pd-multiindex\", \"Panel\")[0][[\"var_1\"]]\r\n",
    "# sub-setting is needed since the example transformer (box-cox) \r\n",
    "#   wants univariate and positive data"
   ]
  },
  {
   "cell_type": "code",
   "execution_count": null,
   "metadata": {},
   "outputs": [],
   "source": [
    "X_series"
   ]
  },
  {
   "cell_type": "code",
   "execution_count": null,
   "metadata": {},
   "outputs": [],
   "source": [
    "X_panel"
   ]
  },
  {
   "cell_type": "markdown",
   "metadata": {},
   "source": [
    "#### Example: transforming series to series\r\n",
    "\r\n",
    "The Box-Cox transformer applies the Box-Cox transform to individual values in series or panels. At the start, the transformer needs to be constructed with parameter settings, this is the same as for any `sktime` estimator."
   ]
  },
  {
   "cell_type": "code",
   "execution_count": null,
   "metadata": {},
   "outputs": [],
   "source": [
    "# constructing the transformer\r\n",
    "from sktime.transformations.series.boxcox import BoxCoxTransformer\r\n",
    "\r\n",
    "my_boxcox_trafo = BoxCoxTransformer(method=\"mle\")"
   ]
  },
  {
   "cell_type": "markdown",
   "metadata": {},
   "source": [
    "Now, we apply the constructed transformer `my_trafo` to a (single, univariate) series. First, the transformer is fitted:"
   ]
  },
  {
   "cell_type": "code",
   "execution_count": null,
   "metadata": {},
   "outputs": [],
   "source": [
    "# fitting the transformer\r\n",
    "my_boxcox_trafo.fit(X_series)"
   ]
  },
  {
   "cell_type": "markdown",
   "metadata": {},
   "source": [
    "Next, the transformer is applied, this results in a transformed series."
   ]
  },
  {
   "cell_type": "code",
   "execution_count": null,
   "metadata": {},
   "outputs": [],
   "source": [
    "# transforming the series\r\n",
    "my_boxcox_trafo.transform(X_series)"
   ]
  },
  {
   "cell_type": "markdown",
   "metadata": {},
   "source": [
    "Generally, the series passed to `transform` need not be the same as in `fit` - if it is, the shorthand `fit_transform` can instead be used:"
   ]
  },
  {
   "cell_type": "code",
   "execution_count": null,
   "metadata": {},
   "outputs": [],
   "source": [
    "my_boxcox_trafo.fit_transform(X_series)"
   ]
  },
  {
   "cell_type": "markdown",
   "metadata": {},
   "source": [
    "The transformer can also be applied to `Panel` data:"
   ]
  },
  {
   "cell_type": "code",
   "execution_count": null,
   "metadata": {},
   "outputs": [],
   "source": [
    "my_boxcox_trafo.fit_transform(X_panel)"
   ]
  },
  {
   "cell_type": "markdown",
   "metadata": {},
   "source": [
    "#### Example: transforming series to primitive features\r\n",
    "\r\n",
    "The summary transformer can be used to extract sample statistics such as mean and variance from a series. First, we construct the transformer:"
   ]
  },
  {
   "cell_type": "code",
   "execution_count": null,
   "metadata": {},
   "outputs": [],
   "source": [
    "# constructing the transformer\r\n",
    "from sktime.transformations.series.summarize import SummaryTransformer\r\n",
    "\r\n",
    "my_summary_trafo = SummaryTransformer()"
   ]
  },
  {
   "cell_type": "markdown",
   "metadata": {},
   "source": [
    "As before, we can fit/apply with `fit`, `transform`, and `fit_transform`.\r\n",
    "\r\n",
    "`SummaryTransformer` returns primitive features, hence the output will be a `pandas.DataFrame`, each row corresponding to one series in the input. \r\n",
    "\r\n",
    "If the input is a single series, the output of `transform` and `fit_transform` will be a one-row `DataFrame`, corresponding to mean etc of that one series:"
   ]
  },
  {
   "cell_type": "code",
   "execution_count": null,
   "metadata": {},
   "outputs": [],
   "source": [
    "my_summary_trafo.fit_transform(X_series)"
   ]
  },
  {
   "cell_type": "markdown",
   "metadata": {},
   "source": [
    "If the input is a panel, the output of `transform` and `fit_transform` will be a `DataFrame` with as many rows as the `Panel` had series. The row with the corresponding index has mean etc of the series in the panel `X_panel` with the same index:"
   ]
  },
  {
   "cell_type": "code",
   "execution_count": null,
   "metadata": {},
   "outputs": [],
   "source": [
    "my_summary_trafo.fit_transform(X_panel)"
   ]
  },
  {
   "cell_type": "markdown",
   "metadata": {},
   "source": [
    "#### transformers with series/panel output vs primitive output\r\n",
    "\r\n",
    "Whether a transformer will return primitives, i.e., a `pandas.DataFrame` in `transform`, or time series like objects (`Series` or `Panel`), can be checked by using the `\"scitype:transform-output\"` tag. This is `\"Series\"` for behaviour as in the first example (box-cox), and `\"Primitives\"` for behaviour as in the second example (summarizer):"
   ]
  },
  {
   "cell_type": "code",
   "execution_count": null,
   "metadata": {},
   "outputs": [],
   "source": [
    "my_boxcox_trafo.get_tag(\"scitype:transform-output\")"
   ]
  },
  {
   "cell_type": "code",
   "execution_count": null,
   "metadata": {},
   "outputs": [],
   "source": [
    "my_summary_trafo.get_tag(\"scitype:transform-output\")"
   ]
  },
  {
   "cell_type": "markdown",
   "metadata": {},
   "source": [
    "Use of tags to characterize and search for transformers will be discussed in more detail in section 4."
   ]
  },
  {
   "cell_type": "markdown",
   "metadata": {},
   "source": [
    "## 2. Forecasters in `sktime` - main families<a class=\"anchor\" id=\"chapter2\"></a>\n",
    "\n",
    "`sktime` supports a number of commonly used forecasters, many of them interfaced from state-of-art forecasting packages. All forecasters are available under the unified `sktime` interface.\n",
    "\n",
    "The main classes that are currently stably supported are:\n",
    "\n",
    "* `ExponentialSmoothing`, `ThetaForecaster`, and `autoETS` from `statsmodels`\n",
    "* `ARIMA` and `autoARIMA` from `pmdarima`\n",
    "* `BATS` and `TBATS` from `tbats`\n",
    "* `PolynomialTrend` for forecasting polynomial trends\n",
    "* `Prophet` which interfaces Facebook `prophet`\n",
    "\n",
    "For illustration, all estimators below will be presented on the basic forecasting workflow - though they also support the advanced forecasting and evaluation workflows under the unified `sktime` interface (see Section 1).\n",
    "\n",
    "For use in the other workflows, simply replace the \"forecaster specification block\" (\"`forecaster=`\") by the forecaster specification block in the examples presented below.\n",
    "\n",
    "Generally, all forecasters available in `sktime` can be listed with the `all_estimators` command:"
   ]
  },
  {
   "cell_type": "markdown",
   "metadata": {},
   "source": [
    "## 4. Extension guide - implementing your own transformer<a class=\"anchor\" id=\"chapter4\"></a>\r\n",
    "\r\n",
    "`sktime` is meant to be easily extensible, for direct contribution to `sktime` as well as for local/private extension with custom methods.\r\n",
    "\r\n",
    "To extend `sktime` with a new local or contributed forecaster, a good workflow to follow is:\r\n",
    "\r\n",
    "1. read through the [transformer extension template](https://github.com/alan-turing-institute/sktime/blob/main/extension_templates/transformer.py) - this is a `python` file with `todo` blocks that mark the places in which changes need to be added.\r\n",
    "2. optionally, if you are planning any major surgeries to the interface: look at the [base class architecture](https://github.com/alan-turing-institute/sktime/blob/main/sktime/transformations/base.py) - note that \"ordinary\" extension (e.g., new algorithm) should be easily doable without this.\r\n",
    "3. copy the transformer extension template to a local folder in your own repository (local/private extension), or to a suitable location in your clone of the `sktime` or affiliated repository (if contributed extension), inside `sktime.transformations`; rename the file and update the file docstring appropriately.\r\n",
    "4. address the \"todo\" parts. Usually, this means: changing the name of the class, setting the tag values, specifying hyper-parameters, filling in `__init__`, `_fit`, `_transform`, and optional methods such as `_inverse_transform` or `_update` (for details see the extension template). You can add private methods as long as they do not override the default public interface. For more details, see the extension template.\r\n",
    "5. to test your estimator manually: import your estimator and run it in the worfklows in Section 1; then use it in the compositors in Section 3.\r\n",
    "6. to test your estimator automatically: call `sktime.tests.test_all_estimators.test_estimator` on your estimator - note that the function takes the class, not an object instance. Before the call, you need to register the new estimator in `sktime.tests._config`, as an import, and by adding default parameter settings to the `ESTIMATOR_TEST_PARAMS` variable (the `dict` entry `key` is the class, and entry is a `scikit-learn` parameter set). `pytest` will also add the call to its automated tests in a working clone of the `sktime` repository.\r\n",
    "\r\n",
    "In case of direct contribution to `sktime` or one of its affiliated packages, additionally:\r\n",
    "* add yourself as an author to the code, and to the `CODEOWNERS` for the new estimator file(s).\r\n",
    "* create a pull request that contains only the new estimators (and their inheritance tree, if it's not just one class), as well as the automated tests as described above.\r\n",
    "* in the pull request, describe the estimator and optimally provide a publication or other technical reference for the strategy it implements.\r\n",
    "* before making the pull request, ensure that you have all necessary permissions to contribute the code to a permissive license (BSD-3) open source project."
   ]
  },
  {
   "cell_type": "markdown",
   "metadata": {},
   "source": [
    "## 5. Summary<a class=\"anchor\" id=\"chapter5\"></a>\r\n",
    "\r\n",
    "* `sktime` comes with several forecasting algorithms (or forecasters), all of which share a common interface. The interface is fully interoperable with the `scikit-learn` interface, and provides dedicated interface points for forecasting in batch and rolling mode.\r\n",
    "\r\n",
    "* `sktime` comes with rich composition functionality that allows to build complex pipelines easily, and connect easily with other parts of the open source ecosystem, such as `scikit-learn` and individual algorithm libraries.\r\n",
    "\r\n",
    "* `sktime` is easy to extend, and comes with user friendly tools to facilitate implementing and testing your own forecasters and composition principles."
   ]
  }
 ],
 "metadata": {
  "hide_input": false,
  "interpreter": {
   "hash": "bc250fec99d1b72e5bb23d9fb06e1f1ac90e860438a1535c061277d2caf5ebfc"
  },
  "kernelspec": {
   "display_name": "Python 3.8.10 64-bit ('sktime': conda)",
   "name": "python3"
  },
  "language_info": {
   "codemirror_mode": {
    "name": "ipython",
    "version": 3
   },
   "file_extension": ".py",
   "mimetype": "text/x-python",
   "name": "python",
   "nbconvert_exporter": "python",
   "pygments_lexer": "ipython3",
   "version": "3.8.10"
  },
  "latex_envs": {
   "LaTeX_envs_menu_present": true,
   "autoclose": false,
   "autocomplete": true,
   "bibliofile": "biblio.bib",
   "cite_by": "apalike",
   "current_citInitial": 1,
   "eqLabelWithNumbers": true,
   "eqNumInitial": 1,
   "hotkeys": {
    "equation": "Ctrl-E",
    "itemize": "Ctrl-I"
   },
   "labels_anchors": false,
   "latex_user_defs": false,
   "report_style_numbering": false,
   "user_envs_cfg": false
  },
  "toc": {
   "base_numbering": 1,
   "nav_menu": {},
   "number_sections": true,
   "sideBar": true,
   "skip_h1_title": false,
   "title_cell": "Table of Contents",
   "title_sidebar": "Contents",
   "toc_cell": false,
   "toc_position": {},
   "toc_section_display": true,
   "toc_window_display": false
  },
  "varInspector": {
   "cols": {
    "lenName": 16,
    "lenType": 16,
    "lenVar": 40
   },
   "kernels_config": {
    "python": {
     "delete_cmd_postfix": "",
     "delete_cmd_prefix": "del ",
     "library": "var_list.py",
     "varRefreshCmd": "print(var_dic_list())"
    },
    "r": {
     "delete_cmd_postfix": ") ",
     "delete_cmd_prefix": "rm(",
     "library": "var_list.r",
     "varRefreshCmd": "cat(var_dic_list()) "
    }
   },
   "types_to_exclude": [
    "module",
    "function",
    "builtin_function_or_method",
    "instance",
    "_Feature"
   ],
   "window_display": false
  }
 },
 "nbformat": 4,
 "nbformat_minor": 4
}