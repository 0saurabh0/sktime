{
 "cells": [
  {
   "cell_type": "code",
   "execution_count": 11,
   "metadata": {
    "collapsed": true
   },
   "outputs": [],
   "source": [
    "from sktime.distances.distance import (\n",
    "    distance,\n",
    "    distance_factory,\n",
    "    dtw_distance,\n",
    "    pairwise_distance,\n",
    ")\n",
    "from sktime.distances.tests._utils import create_test_distance_numpy"
   ]
  },
  {
   "cell_type": "code",
   "execution_count": 12,
   "outputs": [],
   "source": [
    "univariate_y = create_test_distance_numpy(10)\n",
    "univariate_x = create_test_distance_numpy(10, random_state=2)\n",
    "\n",
    "univariate_2d_x = create_test_distance_numpy(10, 1)\n",
    "univariate_2d_y = create_test_distance_numpy(10, 1, random_state=2)\n",
    "\n",
    "multivariate_2d_x = create_test_distance_numpy(10, 5)\n",
    "multivariate_2d_y = create_test_distance_numpy(10, 5, random_state=2)"
   ],
   "metadata": {
    "collapsed": false,
    "pycharm": {
     "name": "#%%\n"
    }
   }
  },
  {
   "cell_type": "code",
   "execution_count": 13,
   "outputs": [
    {
     "data": {
      "text/plain": "array([-0.20837892, -0.02813341, -1.06809805,  0.8201354 , -0.89671779,\n       -0.42087368,  0.25144071, -0.62264404, -0.52897611, -0.45450381])"
     },
     "execution_count": 13,
     "metadata": {},
     "output_type": "execute_result"
    }
   ],
   "source": [
    "univariate_x.shape\n",
    "univariate_x"
   ],
   "metadata": {
    "collapsed": false,
    "pycharm": {
     "name": "#%%\n"
    }
   }
  },
  {
   "cell_type": "code",
   "execution_count": 4,
   "outputs": [
    {
     "data": {
      "text/plain": "(10, 1)"
     },
     "execution_count": 4,
     "metadata": {},
     "output_type": "execute_result"
    }
   ],
   "source": [
    "univariate_2d_x.shape"
   ],
   "metadata": {
    "collapsed": false,
    "pycharm": {
     "name": "#%%\n"
    }
   }
  },
  {
   "cell_type": "code",
   "execution_count": 5,
   "outputs": [
    {
     "data": {
      "text/plain": "(10, 5)"
     },
     "execution_count": 5,
     "metadata": {},
     "output_type": "execute_result"
    }
   ],
   "source": [
    "multivariate_2d_x.shape"
   ],
   "metadata": {
    "collapsed": false,
    "pycharm": {
     "name": "#%%\n"
    }
   }
  },
  {
   "cell_type": "code",
   "execution_count": 6,
   "outputs": [
    {
     "name": "stdout",
     "output_type": "stream",
     "text": [
      "2.180365495972097\n",
      "2.180365495972097\n",
      "23.541096290985276\n"
     ]
    }
   ],
   "source": [
    "\"\"\"\n",
    "Available distances:\n",
    "edr,\n",
    "lcss,\n",
    "euclidean,\n",
    "squared,\n",
    "dtw\n",
    "ddtw\n",
    "wdtw\n",
    "wddtw\n",
    "\"\"\"\n",
    "\n",
    "print(distance(univariate_x, univariate_y, metric=\"dtw\"))\n",
    "print(distance(univariate_2d_x, univariate_2d_y, metric=\"dtw\"))\n",
    "print(distance(multivariate_2d_x, multivariate_2d_y, metric=\"dtw\"))"
   ],
   "metadata": {
    "collapsed": false,
    "pycharm": {
     "name": "#%%\n"
    }
   }
  },
  {
   "cell_type": "code",
   "execution_count": 7,
   "outputs": [
    {
     "name": "stderr",
     "output_type": "stream",
     "text": [
      "/home/chris/Documents/masters/sktime/sktime/distances/_numba_utils.py:53: NumbaWarning: Cannot cache compiled function \"_compute_pairwise_distance\" as it uses dynamic globals (such as ctypes pointers and large global arrays)\n",
      "  @njit(cache=True, parallel=True)\n",
      "/home/chris/Documents/masters/sktime/sktime/distances/_numba_utils.py:53: NumbaWarning: Cannot cache compiled function \"_compute_pairwise_distance\" as it uses dynamic globals (such as ctypes pointers and large global arrays)\n",
      "  @njit(cache=True, parallel=True)\n",
      "/home/chris/Documents/masters/sktime/sktime/distances/_numba_utils.py:53: NumbaWarning: Cannot cache compiled function \"_compute_pairwise_distance\" as it uses dynamic globals (such as ctypes pointers and large global arrays)\n",
      "  @njit(cache=True, parallel=True)\n"
     ]
    }
   ],
   "source": [
    "# Pairwise\n",
    "univariate_pw = pairwise_distance(univariate_x, univariate_y, metric=\"dtw\")\n",
    "univariate_2d_pw = pairwise_distance(univariate_2d_x, univariate_2d_y, metric=\"dtw\")\n",
    "multivariate_2d_pw = pairwise_distance(\n",
    "    multivariate_2d_x, multivariate_2d_y, metric=\"dtw\"\n",
    ")"
   ],
   "metadata": {
    "collapsed": false,
    "pycharm": {
     "name": "#%%\n"
    }
   }
  },
  {
   "cell_type": "code",
   "execution_count": 8,
   "outputs": [
    {
     "name": "stdout",
     "output_type": "stream",
     "text": [
      "CPUDispatcher(<function _DtwDistance._distance_factory.<locals>.numba_dtw_distance at 0x7fe5ea3e4ee0>)\n",
      "CPUDispatcher(<function _DtwDistance._distance_factory.<locals>.numba_dtw_distance at 0x7fe618120e50>)\n",
      "CPUDispatcher(<function _DtwDistance._distance_factory.<locals>.numba_dtw_distance at 0x7fe618154040>)\n"
     ]
    }
   ],
   "source": [
    "# Distance factory\n",
    "univariate_pw_dist_fact = distance_factory(univariate_x, univariate_y, metric=\"dtw\")\n",
    "univariate_2d_pw_dist_fact = distance_factory(\n",
    "    univariate_2d_x, univariate_2d_y, metric=\"dtw\"\n",
    ")\n",
    "multivariate_2d_pw_dist_fact = distance_factory(\n",
    "    multivariate_2d_x, multivariate_2d_y, metric=\"dtw\"\n",
    ")\n",
    "\n",
    "print(univariate_pw_dist_fact)\n",
    "print(univariate_2d_pw_dist_fact)\n",
    "print(multivariate_2d_pw_dist_fact)"
   ],
   "metadata": {
    "collapsed": false,
    "pycharm": {
     "name": "#%%\n"
    }
   }
  },
  {
   "cell_type": "code",
   "execution_count": 9,
   "outputs": [],
   "source": [
    "# Other things you can pass to all of the above"
   ],
   "metadata": {
    "collapsed": false,
    "pycharm": {
     "name": "#%%\n"
    }
   }
  },
  {
   "cell_type": "code",
   "execution_count": 10,
   "outputs": [
    {
     "name": "stdout",
     "output_type": "stream",
     "text": [
      "23.541096290985276\n",
      "23.541096290985276\n",
      "23.541096290985276\n",
      "23.541096290985276\n"
     ]
    }
   ],
   "source": [
    "# There are the raw distance callables\n",
    "dtw_result = dtw_distance(multivariate_2d_x, multivariate_2d_y)\n",
    "\n",
    "# Distance callables (must be one of ours)\n",
    "multivariate_dist_func = distance(\n",
    "    multivariate_2d_x, multivariate_2d_y, metric=dtw_distance\n",
    ")\n",
    "\n",
    "# Distance factory\n",
    "multivariate_dist_fact = distance(\n",
    "    multivariate_2d_x, multivariate_2d_y, metric=multivariate_2d_pw_dist_fact\n",
    ")\n",
    "\n",
    "# Aka value\n",
    "multivariate_aka = distance(\n",
    "    multivariate_2d_x, multivariate_2d_y, metric=\"dynamic time warping\"\n",
    ")\n",
    "\n",
    "print(dtw_result)\n",
    "print(multivariate_dist_func)\n",
    "print(multivariate_dist_fact)\n",
    "print(multivariate_aka)"
   ],
   "metadata": {
    "collapsed": false,
    "pycharm": {
     "name": "#%%\n"
    }
   }
  },
  {
   "cell_type": "code",
   "execution_count": null,
   "outputs": [],
   "source": [
    "# Distance factory"
   ],
   "metadata": {
    "collapsed": false,
    "pycharm": {
     "name": "#%%\n"
    }
   }
  }
 ],
 "metadata": {
  "kernelspec": {
   "display_name": "Python 3",
   "language": "python",
   "name": "python3"
  },
  "language_info": {
   "codemirror_mode": {
    "name": "ipython",
    "version": 2
   },
   "file_extension": ".py",
   "mimetype": "text/x-python",
   "name": "python",
   "nbconvert_exporter": "python",
   "pygments_lexer": "ipython2",
   "version": "2.7.6"
  }
 },
 "nbformat": 4,
 "nbformat_minor": 0
}
